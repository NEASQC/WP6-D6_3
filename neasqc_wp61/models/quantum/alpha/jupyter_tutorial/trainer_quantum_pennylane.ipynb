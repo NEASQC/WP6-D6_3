{
 "cells": [
  {
   "attachments": {},
   "cell_type": "markdown",
   "metadata": {},
   "source": [
    "# Quantum transfer learning with Pennylane"
   ]
  },
  {
   "attachments": {},
   "cell_type": "markdown",
   "metadata": {},
   "source": [
    "Example based on the Quantum transfer learning pennylane tutorial but adapted for an NLP use case.\n",
    "\n",
    "https://pennylane.ai/qml/demos/tutorial_quantum_transfer_learning"
   ]
  },
  {
   "attachments": {},
   "cell_type": "markdown",
   "metadata": {},
   "source": [
    "## Basic Imports"
   ]
  },
  {
   "cell_type": "code",
   "execution_count": 21,
   "metadata": {},
   "outputs": [],
   "source": [
    "import pandas as pd\n",
    "from sklearn.preprocessing import OneHotEncoder\n",
    "from tqdm import tqdm\n",
    "from sklearn.model_selection import train_test_split\n",
    "\n",
    "# PyTorch\n",
    "import torch\n",
    "import torch.nn as nn\n",
    "import torch.optim as optim\n",
    "from torch.optim import lr_scheduler\n",
    "from torch.utils.data import Dataset, DataLoader\n",
    "\n",
    "# Pennylane\n",
    "import pennylane as qml\n",
    "from pennylane import numpy as np\n",
    "\n",
    "\n",
    "# Plotting\n",
    "import matplotlib.pyplot as plt"
   ]
  },
  {
   "attachments": {},
   "cell_type": "markdown",
   "metadata": {},
   "source": [
    "## Seed everything for reproductibility"
   ]
  },
  {
   "cell_type": "code",
   "execution_count": 22,
   "metadata": {},
   "outputs": [],
   "source": [
    "def seed_everything(seed: int):\n",
    "    import random, os\n",
    "    import numpy as np\n",
    "    import torch\n",
    "    \n",
    "    random.seed(seed)\n",
    "    os.environ['PYTHONHASHSEED'] = str(seed)\n",
    "    np.random.seed(seed)\n",
    "    torch.manual_seed(seed)\n",
    "    torch.cuda.manual_seed(seed)\n",
    "    torch.backends.cudnn.deterministic = True\n",
    "    torch.backends.cudnn.benchmark = True\n",
    "    torch.mps.manual_seed(seed)"
   ]
  },
  {
   "cell_type": "code",
   "execution_count": 23,
   "metadata": {},
   "outputs": [],
   "source": [
    "seed_everything(0)"
   ]
  },
  {
   "attachments": {},
   "cell_type": "markdown",
   "metadata": {},
   "source": [
    "## Setting of the main hyper-parameters of the model"
   ]
  },
  {
   "cell_type": "code",
   "execution_count": 24,
   "metadata": {},
   "outputs": [],
   "source": [
    "n_qubits = 3                # Number of qubits\n",
    "q_depth = 6                 # Depth of the quantum circuit (number of variational layers)\n",
    "q_delta = 0.01              # Initial spread of random quantum weights"
   ]
  },
  {
   "cell_type": "code",
   "execution_count": 25,
   "metadata": {},
   "outputs": [],
   "source": [
    "BATCH_SIZE = 2048\n",
    "EPOCHS = 50\n",
    "LR = 2e-3\n",
    "GAMMA_LR = 0.5    # Learning rate reduction applied every STEP_LR epochs.\n",
    "STEP_LR = 20\n",
    "WEIGHT_DECAY = 0"
   ]
  },
  {
   "cell_type": "code",
   "execution_count": 26,
   "metadata": {},
   "outputs": [],
   "source": [
    "dev = qml.device(\"default.qubit\", wires=n_qubits)"
   ]
  },
  {
   "cell_type": "code",
   "execution_count": 27,
   "metadata": {},
   "outputs": [
    {
     "name": "stdout",
     "output_type": "stream",
     "text": [
      "Device used: cpu\n"
     ]
    }
   ],
   "source": [
    "device = torch.device(\"cuda:0\" if torch.cuda.is_available() else \"cpu\")\n",
    "\n",
    "#Pennylane doesnt seem to support Mac Apple Silicon yet\n",
    "#device = torch.device(\"mps\" if torch.backends.mps.is_available() else \"cpu\")\n",
    "\n",
    "print('Device used:', device)\n"
   ]
  },
  {
   "attachments": {},
   "cell_type": "markdown",
   "metadata": {},
   "source": [
    "## Dataset loading"
   ]
  },
  {
   "attachments": {},
   "cell_type": "markdown",
   "metadata": {},
   "source": [
    "The dataset is created from 2 CSV file of size (80, 3) and (20, 3) respectively.\n",
    "\n",
    "Each example has 3 features: Class, Sentence, Sentence_Embedding"
   ]
  },
  {
   "cell_type": "code",
   "execution_count": 28,
   "metadata": {},
   "outputs": [],
   "source": [
    "def preprocess_single_dataset(csv_file):\n",
    "    \"\"\"\n",
    "    Preprocess function for the dataset + Create train/test split\n",
    "    \"\"\"\n",
    "    df_dataset = pd.read_csv(csv_file)\n",
    "\n",
    "    df_dataset['sentence_embedding'] = np.array([np.fromstring(embedding.strip(' []'), sep=' ') for embedding in df_dataset['sentence_embedding']]).numpy().tolist()\n",
    "\n",
    "    #Preprocess labels\n",
    "    enc = OneHotEncoder(handle_unknown='ignore')\n",
    "    enc.fit(df_dataset['class'].values.reshape(-1, 1))\n",
    "    df_dataset['class'] = enc.transform(df_dataset['class'].values.reshape(-1, 1)).toarray().tolist()\n",
    "\n",
    "    X_train, X_test, y_train, y_test = train_test_split(df_dataset['sentence_embedding'], df_dataset['class'], test_size=0.2)\n",
    "\n",
    "    return X_train, X_test, y_train, y_test\n",
    "\n"
   ]
  },
  {
   "cell_type": "code",
   "execution_count": 63,
   "metadata": {},
   "outputs": [],
   "source": [
    "def preprocess_train_test_dataset(train_csv_file, test_csv_file):\n",
    "    \"\"\"\n",
    "    Preprocess function for the dataset + Create train/test split\n",
    "    \"\"\"\n",
    "    df_train = pd.read_csv(train_csv_file)\n",
    "    df_test = pd.read_csv(test_csv_file)\n",
    "\n",
    "\n",
    "    df_train['sentence_embedding'] = np.array([np.fromstring(embedding.strip(' []'), sep=',') for embedding in df_train['sentence_embedding']]).tolist()\n",
    "    df_test['sentence_embedding'] = np.array([np.fromstring(embedding.strip(' []'), sep=',') for embedding in df_test['sentence_embedding']]).tolist()\n",
    "\n",
    "    enc = OneHotEncoder(handle_unknown='ignore')\n",
    "    enc.fit(df_train['class'].append(df_test['class']).values.reshape(-1, 1))\n",
    "    \n",
    "    df_train['class'] = enc.transform(df_train['class'].values.reshape(-1, 1)).toarray().tolist()\n",
    "    df_test['class'] = enc.transform(df_test['class'].values.reshape(-1, 1)).toarray().tolist()\n",
    "\n",
    "    X_train, y_train, X_test, y_test = df_train['sentence_embedding'], df_train['class'], df_test['sentence_embedding'], df_test['class']\n",
    "\n",
    "    return X_train, X_test, y_train, y_test"
   ]
  },
  {
   "cell_type": "code",
   "execution_count": 64,
   "metadata": {},
   "outputs": [],
   "source": [
    "class BertEmbeddingDataset(Dataset):\n",
    "    \"\"\"Bert Embedding dataset.\"\"\"\n",
    "\n",
    "    def __init__(self, X, Y):\n",
    "        self.X = X\n",
    "        self.Y = Y\n",
    "\n",
    "\n",
    "    def __len__(self):\n",
    "        return len(self.X)\n",
    "\n",
    "    def __getitem__(self, idx):\n",
    "        if torch.is_tensor(idx):\n",
    "            idx = idx.tolist()\n",
    "\n",
    "        return torch.tensor(self.X.iloc[idx]), torch.tensor(self.Y.iloc[idx])"
   ]
  },
  {
   "cell_type": "code",
   "execution_count": 69,
   "metadata": {},
   "outputs": [
    {
     "name": "stderr",
     "output_type": "stream",
     "text": [
      "/var/folders/6f/3fhw90n17t140lh7zgl3n7080000gq/T/ipykernel_77139/3575134540.py:13: FutureWarning: The series.append method is deprecated and will be removed from pandas in a future version. Use pandas.concat instead.\n",
      "  enc.fit(df_train['class'].append(df_test['class']).values.reshape(-1, 1))\n"
     ]
    }
   ],
   "source": [
    "#X_train, X_test, y_train, y_test = preprocess_single_dataset('../../../../data/amazonreview_reduced_bert_train_sentence.csv')\n",
    "X_train, X_test, y_train, y_test = preprocess_train_test_dataset('../../../../data/toy_dataset/toy_dataset_bert_sentence_embedding_train.csv', '../../../../data/toy_dataset/toy_dataset_bert_sentence_embedding_test.csv')"
   ]
  },
  {
   "cell_type": "code",
   "execution_count": 70,
   "metadata": {},
   "outputs": [],
   "source": [
    "train_dataset = BertEmbeddingDataset(X_train, y_train)\n",
    "training_dataloader = DataLoader(train_dataset, batch_size=BATCH_SIZE, shuffle=True)\n",
    "\n",
    "validation_dataset = BertEmbeddingDataset(X_test, y_test)\n",
    "validation_dataloader = DataLoader(validation_dataset, batch_size=BATCH_SIZE, shuffle=True)"
   ]
  },
  {
   "attachments": {},
   "cell_type": "markdown",
   "metadata": {},
   "source": [
    "## Variational quantum circuit\n"
   ]
  },
  {
   "cell_type": "code",
   "execution_count": 71,
   "metadata": {},
   "outputs": [],
   "source": [
    "def H_layer(nqubits):\n",
    "    \"\"\"Layer of single-qubit Hadamard gates.\n",
    "    \"\"\"\n",
    "    for idx in range(nqubits):\n",
    "        qml.Hadamard(wires=idx)\n",
    "\n",
    "\n",
    "def RY_layer(w):\n",
    "    \"\"\"Layer of parametrized qubit rotations around the y axis.\n",
    "    \"\"\"\n",
    "    for idx, element in enumerate(w):\n",
    "        qml.RY(element, wires=idx)\n",
    "\n",
    "\n",
    "def entangling_layer(nqubits):\n",
    "    \"\"\"Layer of CNOTs followed by another shifted layer of CNOT.\n",
    "    \"\"\"\n",
    "    # In other words it should apply something like :\n",
    "    # CNOT  CNOT  CNOT  CNOT...  CNOT\n",
    "    #   CNOT  CNOT  CNOT...  CNOT\n",
    "    for i in range(0, nqubits - 1, 2):  # Loop over even indices: i=0,2,...N-2\n",
    "        qml.CNOT(wires=[i, i + 1])\n",
    "    for i in range(1, nqubits - 1, 2):  # Loop over odd indices:  i=1,3,...N-3\n",
    "        qml.CNOT(wires=[i, i + 1])"
   ]
  },
  {
   "cell_type": "code",
   "execution_count": 72,
   "metadata": {},
   "outputs": [],
   "source": [
    "@qml.qnode(dev, interface=\"torch\")\n",
    "def quantum_net(q_input_features, q_weights_flat):\n",
    "    \"\"\"\n",
    "    The variational quantum circuit.\n",
    "    \"\"\"\n",
    "\n",
    "    # Reshape weights\n",
    "    q_weights = q_weights_flat.reshape(q_depth, n_qubits)\n",
    "\n",
    "    # Start from state |+> , unbiased w.r.t. |0> and |1>\n",
    "    H_layer(n_qubits)\n",
    "\n",
    "    # Embed features in the quantum node\n",
    "    RY_layer(q_input_features)\n",
    "\n",
    "    # Sequence of trainable variational layers\n",
    "    for k in range(q_depth):\n",
    "        entangling_layer(n_qubits)\n",
    "        RY_layer(q_weights[k])\n",
    "\n",
    "\n",
    "    # Expectation values in the Z basis\n",
    "    exp_vals_Z = [qml.expval(qml.PauliZ(position)) for position in range(n_qubits)]\n",
    "\n",
    "    return tuple(exp_vals_Z)"
   ]
  },
  {
   "attachments": {},
   "cell_type": "markdown",
   "metadata": {},
   "source": [
    "## Dressed quantum circuit"
   ]
  },
  {
   "attachments": {},
   "cell_type": "markdown",
   "metadata": {},
   "source": [
    "This is a concatenation of:\n",
    "\n",
    "* A classical pre-processing layer (nn.Linear).\n",
    "* A classical activation function (torch.tanh).\n",
    "* A constant np.pi/2.0 scaling.\n",
    "* The previously defined quantum circuit (quantum_net).\n",
    "* A classical post-processing layer (nn.Linear).\n",
    "* A classical activation function (torch.sigmoid)."
   ]
  },
  {
   "cell_type": "code",
   "execution_count": 73,
   "metadata": {},
   "outputs": [],
   "source": [
    "class DressedQuantumNet(nn.Module):\n",
    "    \"\"\"\n",
    "    Torch module implementing the *dressed* quantum net.\n",
    "    \"\"\"\n",
    "\n",
    "    def __init__(self):\n",
    "        \"\"\"\n",
    "        Definition of the *dressed* layout.\n",
    "        \"\"\"\n",
    "\n",
    "        super().__init__()\n",
    "        self.pre_net = nn.Linear(768, n_qubits)\n",
    "        self.q_params = nn.Parameter(q_delta * torch.randn(q_depth * n_qubits))\n",
    "        self.post_net = nn.Linear(n_qubits, 2)\n",
    "        self.sigmoid = nn.Sigmoid()\n",
    "\n",
    "    def forward(self, input_features):\n",
    "        \"\"\"\n",
    "        Defining how tensors are supposed to move through the *dressed* quantum\n",
    "        net.\n",
    "        \"\"\"\n",
    "\n",
    "        # obtain the input features for the quantum circuit\n",
    "        # by reducing the feature dimension from 512 to 4\n",
    "        pre_out = self.pre_net(input_features)\n",
    "        q_in = torch.tanh(pre_out) * np.pi / 2.0\n",
    "\n",
    "        # Apply the quantum circuit to each element of the batch and append to q_out\n",
    "        q_out = torch.Tensor(0, n_qubits)\n",
    "        q_out = q_out.to(device)\n",
    "        for elem in q_in:\n",
    "            q_out_elem = torch.hstack(quantum_net(elem, self.q_params)).float().unsqueeze(0)\n",
    "            q_out = torch.cat((q_out, q_out_elem))\n",
    "\n",
    "        # return the two-dimensional prediction from the postprocessing layer\n",
    "        return self.sigmoid(self.post_net(q_out))"
   ]
  },
  {
   "cell_type": "code",
   "execution_count": 74,
   "metadata": {},
   "outputs": [],
   "source": [
    "model_hybrid = DressedQuantumNet()\n",
    "\n",
    "# Use CUDA or CPU according to the \"device\" object.\n",
    "model_hybrid = model_hybrid.to(device)"
   ]
  },
  {
   "cell_type": "code",
   "execution_count": 75,
   "metadata": {},
   "outputs": [
    {
     "name": "stdout",
     "output_type": "stream",
     "text": [
      "torch.Size([18])\n"
     ]
    }
   ],
   "source": [
    "print(model_hybrid.q_params.shape)"
   ]
  },
  {
   "attachments": {},
   "cell_type": "markdown",
   "metadata": {},
   "source": [
    "## Training and results"
   ]
  },
  {
   "attachments": {},
   "cell_type": "markdown",
   "metadata": {},
   "source": [
    "Here we use a Binary Cross Entropy Loss, an Adam optimizer and a scheduler reducing the learning rate at an exponentially rate. "
   ]
  },
  {
   "cell_type": "code",
   "execution_count": 76,
   "metadata": {},
   "outputs": [],
   "source": [
    "criterion = nn.BCELoss()\n",
    "optimizer_hybrid = optim.Adam(model_hybrid.parameters(), lr=LR, weight_decay=WEIGHT_DECAY)\n",
    "exp_lr_scheduler = lr_scheduler.StepLR(\n",
    "    optimizer_hybrid, step_size=STEP_LR, gamma=GAMMA_LR\n",
    ")\n",
    "\n",
    "#exp_lr_scheduler = lr_scheduler.CosineAnnealingLR(\n",
    "#    optimizer_hybrid, T_max=EPOCHS, eta_min=1e-5)\n",
    "\n"
   ]
  },
  {
   "attachments": {},
   "cell_type": "markdown",
   "metadata": {},
   "source": [
    "We use tensorboard to log the hyperparameters, the loss and the accuracy of the model:"
   ]
  },
  {
   "cell_type": "code",
   "execution_count": 77,
   "metadata": {},
   "outputs": [],
   "source": [
    "from torch.utils.tensorboard import SummaryWriter\n",
    "import datetime\n",
    "\n",
    "log_dir = \"logs/fit_pennylane/\" + datetime.datetime.now().strftime(\"%Y%m%d-%H%M%S\")\n",
    "summary_writer = SummaryWriter(log_dir=log_dir)"
   ]
  },
  {
   "cell_type": "code",
   "execution_count": 78,
   "metadata": {},
   "outputs": [
    {
     "name": "stderr",
     "output_type": "stream",
     "text": [
      "Validation: 100%|██████████| 1/1 [00:00<00:00,  9.91it/s, loss=0.719, acc=0.150]\n",
      "Training: 100%|██████████| 1/1 [00:00<00:00,  1.85it/s, loss=0.699, acc=0.562]\n",
      "Validation: 100%|██████████| 1/1 [00:00<00:00, 10.43it/s, loss=0.719, acc=0.150]\n",
      "Training: 100%|██████████| 1/1 [00:00<00:00,  1.87it/s, loss=0.698, acc=0.562]\n",
      "Validation: 100%|██████████| 1/1 [00:00<00:00, 10.37it/s, loss=0.719, acc=0.150]\n",
      "Training: 100%|██████████| 1/1 [00:00<00:00,  1.87it/s, loss=0.698, acc=0.562]\n",
      "Validation: 100%|██████████| 1/1 [00:00<00:00, 10.51it/s, loss=0.719, acc=0.150]\n",
      "Training: 100%|██████████| 1/1 [00:00<00:00,  1.89it/s, loss=0.698, acc=0.562]\n",
      "Validation: 100%|██████████| 1/1 [00:00<00:00, 10.52it/s, loss=0.719, acc=0.150]\n",
      "Training: 100%|██████████| 1/1 [00:00<00:00,  1.87it/s, loss=0.698, acc=0.562]\n",
      "Validation: 100%|██████████| 1/1 [00:00<00:00, 10.51it/s, loss=0.719, acc=0.150]\n",
      "Training: 100%|██████████| 1/1 [00:00<00:00,  1.85it/s, loss=0.698, acc=0.562]\n",
      "Validation: 100%|██████████| 1/1 [00:00<00:00, 10.49it/s, loss=0.719, acc=0.150]\n",
      "Training: 100%|██████████| 1/1 [00:00<00:00,  1.87it/s, loss=0.697, acc=0.562]\n",
      "Validation: 100%|██████████| 1/1 [00:00<00:00, 10.42it/s, loss=0.719, acc=0.150]\n",
      "Training: 100%|██████████| 1/1 [00:00<00:00,  1.85it/s, loss=0.697, acc=0.562]\n",
      "Validation: 100%|██████████| 1/1 [00:00<00:00, 10.39it/s, loss=0.719, acc=0.150]\n",
      "Training: 100%|██████████| 1/1 [00:00<00:00,  1.87it/s, loss=0.697, acc=0.562]\n",
      "Validation: 100%|██████████| 1/1 [00:00<00:00, 10.42it/s, loss=0.719, acc=0.150]\n",
      "Training: 100%|██████████| 1/1 [00:00<00:00,  1.86it/s, loss=0.697, acc=0.562]\n",
      "Validation: 100%|██████████| 1/1 [00:00<00:00, 10.28it/s, loss=0.720, acc=0.150]\n",
      "Training: 100%|██████████| 1/1 [00:00<00:00,  1.84it/s, loss=0.697, acc=0.562]\n",
      "Validation: 100%|██████████| 1/1 [00:00<00:00, 10.21it/s, loss=0.720, acc=0.150]\n",
      "Training: 100%|██████████| 1/1 [00:00<00:00,  1.84it/s, loss=0.697, acc=0.562]\n",
      "Validation: 100%|██████████| 1/1 [00:00<00:00, 10.51it/s, loss=0.720, acc=0.150]\n",
      "Training: 100%|██████████| 1/1 [00:00<00:00,  1.86it/s, loss=0.697, acc=0.562]\n",
      "Validation: 100%|██████████| 1/1 [00:00<00:00, 10.41it/s, loss=0.720, acc=0.150]\n",
      "Training: 100%|██████████| 1/1 [00:00<00:00,  1.82it/s, loss=0.697, acc=0.562]\n",
      "Validation: 100%|██████████| 1/1 [00:00<00:00, 10.50it/s, loss=0.720, acc=0.150]\n",
      "Epochs: 100%|██████████| 50/50 [00:32<00:00,  1.54it/s, loss=0.697, acc=0.562]\n"
     ]
    }
   ],
   "source": [
    "#Training loop\n",
    "best_val_loss = 1000\n",
    "best_val_acc = 0\n",
    "best_train_loss = 1000\n",
    "best_acc_train = 0\n",
    "\n",
    "training_loss_list = []\n",
    "validation_loss_list = []\n",
    "training_acc_list = []\n",
    "validation_acc_list = []\n",
    "print(\"Training started:\")\n",
    "\n",
    "epoch_bar = tqdm(range(EPOCHS), total=EPOCHS, desc=\"Epochs\", position=0, leave=True)\n",
    "\n",
    "for epoch in epoch_bar:\n",
    "\n",
    "    model_hybrid.train()\n",
    "\n",
    "    running_loss = 0.0\n",
    "    running_corrects = 0\n",
    "\n",
    "    # Iterate over data.\n",
    "    it = 0\n",
    "    training_bar = tqdm(training_dataloader, total=len(training_dataloader), desc=\"Training\", position=0, leave=True)\n",
    "\n",
    "    for inputs, labels in training_bar:\n",
    "        batch_size_ = len(inputs)\n",
    "        inputs = inputs.to(device)\n",
    "        labels = labels.to(device)\n",
    "        optimizer_hybrid.zero_grad()\n",
    "\n",
    "        # Track/compute gradient and make an optimization step only when training\n",
    "        with torch.set_grad_enabled(True):\n",
    "            outputs = model_hybrid(inputs)\n",
    "            _, preds = torch.max(outputs, 1)\n",
    "            loss = criterion(outputs, labels)\n",
    "            \n",
    "            \n",
    "            loss.backward()\n",
    "            optimizer_hybrid.step()\n",
    "\n",
    "        # Print iteration results\n",
    "        running_loss += loss.item()*batch_size_\n",
    "\n",
    "        batch_corrects = torch.sum(preds == torch.max(labels, 1)[1]).item()\n",
    "        running_corrects += batch_corrects\n",
    "\n",
    "        training_bar.set_postfix({\"loss\": f\"{loss:.3f}\", \"acc\": f\"{batch_corrects/batch_size_:.3f}\"})\n",
    "\n",
    "\n",
    "    # Print epoch results\n",
    "    train_loss = running_loss / len(training_dataloader.dataset)\n",
    "    train_acc = running_corrects / len(training_dataloader.dataset)\n",
    "\n",
    "    epoch_bar.set_postfix({\"loss\": f\"{train_loss:.3f}\", \"acc\": f\"{train_acc:.3f}\"})\n",
    "\n",
    "    summary_writer.add_scalar(\"Training/Loss\", train_loss, epoch)\n",
    "    summary_writer.add_scalar(\"Training/Acurracy\", train_acc, epoch)\n",
    "\n",
    "    training_loss_list.append(train_loss)\n",
    "    training_acc_list.append(train_acc)\n",
    "\n",
    "    exp_lr_scheduler.step()\n",
    "\n",
    "    if train_loss < best_train_loss:\n",
    "        best_train_loss = train_loss\n",
    "\n",
    "    if train_acc > best_acc_train:\n",
    "        best_acc_train = train_acc\n",
    "\n",
    "    \n",
    "    ## VALIDATION PHASE\n",
    "    validation_bar = tqdm(validation_dataloader, total=len(validation_dataloader), desc=\"Validation\", position=0, leave=True)\n",
    "    model_hybrid.eval()\n",
    "\n",
    "    running_loss = 0.0\n",
    "    running_corrects = 0\n",
    "\n",
    "\n",
    "    for inputs, labels in validation_bar:\n",
    "        batch_size_ = len(inputs)\n",
    "        inputs = inputs.to(device)\n",
    "        labels = labels.to(device)\n",
    "        optimizer_hybrid.zero_grad()\n",
    "\n",
    "        # Track/compute gradient and make an optimization step only when training\n",
    "        with torch.set_grad_enabled(False):\n",
    "            outputs = model_hybrid(inputs)\n",
    "            _, preds = torch.max(outputs, 1)\n",
    "            loss = criterion(outputs, labels)\n",
    "\n",
    "        # Print iteration results\n",
    "        running_loss += loss.item()*batch_size_\n",
    "        batch_corrects = torch.sum(preds == torch.max(labels, 1)[1]).item()\n",
    "        running_corrects += batch_corrects\n",
    "\n",
    "        validation_bar.set_postfix({\"loss\": f\"{loss:.3f}\", \"acc\": f\"{batch_corrects/batch_size_:.3f}\"})\n",
    "        it += 1\n",
    "\n",
    "    validation_loss = running_loss / len(validation_dataloader.dataset)\n",
    "    validation_acc = running_corrects / len(validation_dataloader.dataset)\n",
    "\n",
    "    summary_writer.add_scalar(\"Validation/Loss\", validation_loss, epoch)\n",
    "    summary_writer.add_scalar(\"Validation/Acurracy\", validation_acc, epoch)\n",
    "\n",
    "    validation_loss_list.append(validation_loss)\n",
    "    validation_acc_list.append(validation_acc)\n",
    "\n",
    "    if validation_acc > best_val_acc:\n",
    "        best_val_acc = validation_acc\n",
    "\n",
    "    if validation_loss < best_val_loss:\n",
    "        best_val_loss = validation_loss\n",
    "\n"
   ]
  },
  {
   "cell_type": "code",
   "execution_count": null,
   "metadata": {},
   "outputs": [],
   "source": [
    "summary_writer.add_hparams({'lr': LR, 'gamma_lr': GAMMA_LR, 'step_lr': STEP_LR, 'weight_decay': WEIGHT_DECAY},\n",
    "                      {'hparam/loss_train': best_train_loss, 'hparam/acc_train': best_acc_train,\n",
    "                       'hparam/loss_valid': best_val_loss, 'hparam/acc_valid': best_val_acc})"
   ]
  },
  {
   "attachments": {},
   "cell_type": "markdown",
   "metadata": {},
   "source": [
    "## Display loss and accuracy results"
   ]
  },
  {
   "cell_type": "code",
   "execution_count": 79,
   "metadata": {},
   "outputs": [
    {
     "data": {
      "image/png": "[encoded data removed]",
      "text/plain": [
       "<Figure size 1000x500 with 2 Axes>"
      ]
     },
     "metadata": {},
     "output_type": "display_data"
    }
   ],
   "source": [
    "fig, ax1 = plt.subplots(1,2)\n",
    "\n",
    "# Plot Training and Validation Loss\n",
    "ax1[0].plot(training_loss_list, label='Training loss')\n",
    "ax1[0].plot(validation_loss_list, label='Validation loss')\n",
    "ax1[0].legend()\n",
    "ax1[0].set_ylabel('Loss')\n",
    "ax1[0].set_xlabel('Epoch')\n",
    "\n",
    "# Plot Training and Validation Accuracy\n",
    "ax1[1].plot(training_acc_list, label='Training accuracy')\n",
    "ax1[1].plot(validation_acc_list, label='Validation accuracy')\n",
    "ax1[1].legend()\n",
    "ax1[1].set_ylabel('Accuracy')\n",
    "ax1[1].set_xlabel('Epoch')\n",
    "\n",
    "\n",
    "fig.suptitle('Training results')\n",
    "fig.set_size_inches(10, 5)"
   ]
  },
  {
   "cell_type": "code",
   "execution_count": null,
   "metadata": {},
   "outputs": [],
   "source": []
  }
 ],
 "metadata": {
  "kernelspec": {
   "display_name": "wp6-qnlp-G79kAyvs-py3.10",
   "language": "python",
   "name": "python3"
  },
  "language_info": {
   "codemirror_mode": {
    "name": "ipython",
    "version": 3
   },
   "file_extension": ".py",
   "mimetype": "text/x-python",
   "name": "python",
   "nbconvert_exporter": "python",
   "pygments_lexer": "ipython3",
   "version": "3.10.12"
  },
  "orig_nbformat": 4
 },
 "nbformat": 4,
 "nbformat_minor": 2
}
