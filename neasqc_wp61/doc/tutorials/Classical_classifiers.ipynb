{
 "cells": [
  {
   "cell_type": "markdown",
   "metadata": {
    "tags": []
   },
   "source": [
    "# Classical classifiers"
   ]
  },
  {
   "cell_type": "markdown",
   "metadata": {},
   "source": [
    "This notebook shows how well classical classifiers solve the sentence classification problem that is chosen for the pre-alpha prototype. This is mainly needed to have a baseline for quantum solution to compare against."
   ]
  },
  {
   "cell_type": "markdown",
   "metadata": {},
   "source": [
    "We first load our library files and the required packages."
   ]
  },
  {
   "cell_type": "code",
   "execution_count": 12,
   "metadata": {},
   "outputs": [],
   "source": [
    "import sys\n",
    "import os\n",
    "import json\n",
    "import numpy as np\n",
    "from sklearn.neighbors import KNeighborsClassifier\n",
    "\n",
    "sys.path.append(\"../../models/classical/\")\n",
    "\n",
    "from NNClassifier import (loadData,evaluate, NNClassifier,\n",
    "       prepareTrainTestXYWords, prepareTrainTestXYSentence,)"
   ]
  },
  {
   "cell_type": "markdown",
   "metadata": {},
   "source": [
    "For data vectorizing separate services are used which are run as Docker containers. To simplify the presentation via Jupyter notebook, for demonstration we will just load the already vectorized data.\n",
    "\n",
    "We have implemented sentence vectorization using pretrained _BERT_ (see [Git](https://github.com/google-research/bert), [arXiv](https://arxiv.org/abs/1810.04805)) base model (each sentence is represented as a 768-dimensional real-valued vector),\n",
    "as well as word-level vectorization using [_fastText_](https://fasttext.cc/) model [pretrained on English Wikipedia](https://fasttext.cc/docs/en/pretrained-vectors.html) (each word in a sentence is represented as a 300-dimensional real-valued vector).\n",
    "\n",
    "We will start with the BERT sentence-level vectorization."
   ]
  },
  {
   "cell_type": "code",
   "execution_count": 13,
   "metadata": {},
   "outputs": [
    {
     "name": "stdout",
     "output_type": "stream",
     "text": [
      "Training samples: 89, test samples: 23\n",
      "An example sentence: chicken eats fox, type: NOUN-TVERB-NOUN, truth value: False\n",
      "Vectorized sentence dimension: 768\n"
     ]
    }
   ],
   "source": [
    "data = loadData(\"../../data/dataset_vectorized_bert_uncased.json\")\n",
    "print(f\"Training samples: {len(data['train_data'])}, test samples: {len(data['test_data'])}\")\n",
    "print(f\"An example sentence: {data['train_data'][2]['sentence']}, type: {data['train_data'][2]['sentence_type']}, truth value: {data['train_data'][2]['truth_value']}\")\n",
    "print(f\"Vectorized sentence dimension: {len(data['train_data'][0]['sentence_vectorized'][0])}\")"
   ]
  },
  {
   "cell_type": "markdown",
   "metadata": {},
   "source": [
    "We reformat the data as numpy arrays for classifier training. "
   ]
  },
  {
   "cell_type": "code",
   "execution_count": 14,
   "metadata": {},
   "outputs": [
    {
     "name": "stdout",
     "output_type": "stream",
     "text": [
      "(89, 768)\n",
      "(89, 2)\n",
      "(23, 768)\n",
      "(23, 2)\n"
     ]
    }
   ],
   "source": [
    "trainX, trainY, testX, testY = prepareTrainTestXYSentence(data)\n",
    "print(f\"{trainX.shape}\")\n",
    "print(f\"{trainY.shape}\")\n",
    "print(f\"{testX.shape}\")\n",
    "print(f\"{testY.shape}\")"
   ]
  },
  {
   "cell_type": "markdown",
   "metadata": {},
   "source": [
    "We test the accuracy of classifying the sentence with the label corresponding to the closest sentence in the training data."
   ]
  },
  {
   "cell_type": "code",
   "execution_count": 15,
   "metadata": {},
   "outputs": [
    {
     "name": "stdout",
     "output_type": "stream",
     "text": [
      "Nearest neighbor test accuracy: 0.6956521739130435, train accuracy: 0.9887640449438202\n"
     ]
    }
   ],
   "source": [
    "neigh = KNeighborsClassifier(n_neighbors=1)\n",
    "neigh.fit(trainX, trainY)\n",
    "res = neigh.predict(testX)\n",
    "bert_neigh_test_acc = np.sum(res == testY)/2/len(testY)\n",
    "bert_neigh_train_acc = neigh.score(trainX, trainY)\n",
    "print(f\"Nearest neighbor test accuracy: {bert_neigh_test_acc}, train accuracy: {bert_neigh_train_acc}\")"
   ]
  },
  {
   "cell_type": "markdown",
   "metadata": {},
   "source": [
    "Now we train a feedforward neural network classifier."
   ]
  },
  {
   "cell_type": "code",
   "execution_count": 16,
   "metadata": {
    "scrolled": true,
    "tags": []
   },
   "outputs": [
    {
     "name": "stdout",
     "output_type": "stream",
     "text": [
      "Epoch 1/100\n",
      "3/3 - 0s - loss: 0.7100 - accuracy: 0.5169 - 220ms/epoch - 73ms/step\n",
      "Epoch 2/100\n",
      "3/3 - 0s - loss: 0.6822 - accuracy: 0.5618 - 25ms/epoch - 8ms/step\n",
      "Epoch 3/100\n",
      "3/3 - 0s - loss: 0.6659 - accuracy: 0.6517 - 24ms/epoch - 8ms/step\n",
      "Epoch 4/100\n",
      "3/3 - 0s - loss: 0.6538 - accuracy: 0.6517 - 25ms/epoch - 8ms/step\n",
      "Epoch 5/100\n",
      "3/3 - 0s - loss: 0.6374 - accuracy: 0.6854 - 23ms/epoch - 8ms/step\n",
      "Epoch 6/100\n"
     ]
    },
    {
     "name": "stderr",
     "output_type": "stream",
     "text": [
      "2022-11-01 12:54:25.682413: I tensorflow/core/grappler/optimizers/custom_graph_optimizer_registry.cc:114] Plugin optimizer for device_type GPU is enabled.\n"
     ]
    },
    {
     "name": "stdout",
     "output_type": "stream",
     "text": [
      "3/3 - 0s - loss: 0.6270 - accuracy: 0.7079 - 31ms/epoch - 10ms/step\n",
      "Epoch 7/100\n",
      "3/3 - 0s - loss: 0.6177 - accuracy: 0.6517 - 24ms/epoch - 8ms/step\n",
      "Epoch 8/100\n",
      "3/3 - 0s - loss: 0.6115 - accuracy: 0.6517 - 24ms/epoch - 8ms/step\n",
      "Epoch 9/100\n",
      "3/3 - 0s - loss: 0.5986 - accuracy: 0.6517 - 30ms/epoch - 10ms/step\n",
      "Epoch 10/100\n",
      "3/3 - 0s - loss: 0.5915 - accuracy: 0.7191 - 31ms/epoch - 10ms/step\n",
      "Epoch 11/100\n",
      "3/3 - 0s - loss: 0.5855 - accuracy: 0.7640 - 29ms/epoch - 10ms/step\n",
      "Epoch 12/100\n",
      "3/3 - 0s - loss: 0.5803 - accuracy: 0.7528 - 28ms/epoch - 9ms/step\n",
      "Epoch 13/100\n",
      "3/3 - 0s - loss: 0.5714 - accuracy: 0.7191 - 28ms/epoch - 9ms/step\n",
      "Epoch 14/100\n",
      "3/3 - 0s - loss: 0.5697 - accuracy: 0.6854 - 28ms/epoch - 9ms/step\n",
      "Epoch 15/100\n",
      "3/3 - 0s - loss: 0.5605 - accuracy: 0.7191 - 28ms/epoch - 9ms/step\n",
      "Epoch 16/100\n",
      "3/3 - 0s - loss: 0.5533 - accuracy: 0.7303 - 22ms/epoch - 7ms/step\n",
      "Epoch 17/100\n",
      "3/3 - 0s - loss: 0.5499 - accuracy: 0.7303 - 35ms/epoch - 12ms/step\n",
      "Epoch 18/100\n",
      "3/3 - 0s - loss: 0.5432 - accuracy: 0.7191 - 21ms/epoch - 7ms/step\n",
      "Epoch 19/100\n",
      "3/3 - 0s - loss: 0.5420 - accuracy: 0.7303 - 24ms/epoch - 8ms/step\n",
      "Epoch 20/100\n",
      "3/3 - 0s - loss: 0.5354 - accuracy: 0.7528 - 25ms/epoch - 8ms/step\n",
      "Epoch 21/100\n",
      "3/3 - 0s - loss: 0.5303 - accuracy: 0.7416 - 25ms/epoch - 8ms/step\n",
      "Epoch 22/100\n",
      "3/3 - 0s - loss: 0.5259 - accuracy: 0.7416 - 25ms/epoch - 8ms/step\n",
      "Epoch 23/100\n",
      "3/3 - 0s - loss: 0.5236 - accuracy: 0.7416 - 23ms/epoch - 8ms/step\n",
      "Epoch 24/100\n",
      "3/3 - 0s - loss: 0.5173 - accuracy: 0.7191 - 26ms/epoch - 9ms/step\n",
      "Epoch 25/100\n",
      "3/3 - 0s - loss: 0.5148 - accuracy: 0.7416 - 24ms/epoch - 8ms/step\n",
      "Epoch 26/100\n",
      "3/3 - 0s - loss: 0.5112 - accuracy: 0.7640 - 23ms/epoch - 8ms/step\n",
      "Epoch 27/100\n",
      "3/3 - 0s - loss: 0.5089 - accuracy: 0.7753 - 22ms/epoch - 7ms/step\n",
      "Epoch 28/100\n",
      "3/3 - 0s - loss: 0.5026 - accuracy: 0.7640 - 24ms/epoch - 8ms/step\n",
      "Epoch 29/100\n",
      "3/3 - 0s - loss: 0.5013 - accuracy: 0.7528 - 24ms/epoch - 8ms/step\n",
      "Epoch 30/100\n",
      "3/3 - 0s - loss: 0.4989 - accuracy: 0.7416 - 24ms/epoch - 8ms/step\n",
      "Epoch 31/100\n",
      "3/3 - 0s - loss: 0.4951 - accuracy: 0.7416 - 24ms/epoch - 8ms/step\n",
      "Epoch 32/100\n",
      "3/3 - 0s - loss: 0.4923 - accuracy: 0.7753 - 23ms/epoch - 8ms/step\n",
      "Epoch 33/100\n",
      "3/3 - 0s - loss: 0.4884 - accuracy: 0.7640 - 23ms/epoch - 8ms/step\n",
      "Epoch 34/100\n",
      "3/3 - 0s - loss: 0.4863 - accuracy: 0.7753 - 22ms/epoch - 7ms/step\n",
      "Epoch 35/100\n",
      "3/3 - 0s - loss: 0.4819 - accuracy: 0.7640 - 25ms/epoch - 8ms/step\n",
      "Epoch 36/100\n",
      "3/3 - 0s - loss: 0.4787 - accuracy: 0.7753 - 24ms/epoch - 8ms/step\n",
      "Epoch 37/100\n",
      "3/3 - 0s - loss: 0.4781 - accuracy: 0.7865 - 24ms/epoch - 8ms/step\n",
      "Epoch 38/100\n",
      "3/3 - 0s - loss: 0.4748 - accuracy: 0.7865 - 24ms/epoch - 8ms/step\n",
      "Epoch 39/100\n",
      "3/3 - 0s - loss: 0.4710 - accuracy: 0.7865 - 24ms/epoch - 8ms/step\n",
      "Epoch 40/100\n",
      "3/3 - 0s - loss: 0.4693 - accuracy: 0.7753 - 24ms/epoch - 8ms/step\n",
      "Epoch 41/100\n",
      "3/3 - 0s - loss: 0.4679 - accuracy: 0.7865 - 24ms/epoch - 8ms/step\n",
      "Epoch 42/100\n",
      "3/3 - 0s - loss: 0.4710 - accuracy: 0.7978 - 24ms/epoch - 8ms/step\n",
      "Epoch 43/100\n",
      "3/3 - 0s - loss: 0.4610 - accuracy: 0.7865 - 24ms/epoch - 8ms/step\n",
      "Epoch 44/100\n",
      "3/3 - 0s - loss: 0.4587 - accuracy: 0.7865 - 24ms/epoch - 8ms/step\n",
      "Epoch 45/100\n",
      "3/3 - 0s - loss: 0.4563 - accuracy: 0.7865 - 24ms/epoch - 8ms/step\n",
      "Epoch 46/100\n",
      "3/3 - 0s - loss: 0.4551 - accuracy: 0.7978 - 24ms/epoch - 8ms/step\n",
      "Epoch 47/100\n",
      "3/3 - 0s - loss: 0.4517 - accuracy: 0.7978 - 24ms/epoch - 8ms/step\n",
      "Epoch 48/100\n",
      "3/3 - 0s - loss: 0.4503 - accuracy: 0.7865 - 24ms/epoch - 8ms/step\n",
      "Epoch 49/100\n",
      "3/3 - 0s - loss: 0.4482 - accuracy: 0.7865 - 24ms/epoch - 8ms/step\n",
      "Epoch 50/100\n",
      "3/3 - 0s - loss: 0.4453 - accuracy: 0.7978 - 23ms/epoch - 8ms/step\n",
      "Epoch 51/100\n",
      "3/3 - 0s - loss: 0.4425 - accuracy: 0.8090 - 23ms/epoch - 8ms/step\n",
      "Epoch 52/100\n",
      "3/3 - 0s - loss: 0.4405 - accuracy: 0.7978 - 24ms/epoch - 8ms/step\n",
      "Epoch 53/100\n",
      "3/3 - 0s - loss: 0.4385 - accuracy: 0.7978 - 23ms/epoch - 8ms/step\n",
      "Epoch 54/100\n",
      "3/3 - 0s - loss: 0.4375 - accuracy: 0.7978 - 24ms/epoch - 8ms/step\n",
      "Epoch 55/100\n",
      "3/3 - 0s - loss: 0.4353 - accuracy: 0.8090 - 24ms/epoch - 8ms/step\n",
      "Epoch 56/100\n",
      "3/3 - 0s - loss: 0.4333 - accuracy: 0.7978 - 23ms/epoch - 8ms/step\n",
      "Epoch 57/100\n",
      "3/3 - 0s - loss: 0.4333 - accuracy: 0.7865 - 23ms/epoch - 8ms/step\n",
      "Epoch 58/100\n",
      "3/3 - 0s - loss: 0.4292 - accuracy: 0.8090 - 24ms/epoch - 8ms/step\n",
      "Epoch 59/100\n",
      "3/3 - 0s - loss: 0.4269 - accuracy: 0.8427 - 26ms/epoch - 9ms/step\n",
      "Epoch 60/100\n",
      "3/3 - 0s - loss: 0.4261 - accuracy: 0.8315 - 24ms/epoch - 8ms/step\n",
      "Epoch 61/100\n",
      "3/3 - 0s - loss: 0.4232 - accuracy: 0.8539 - 24ms/epoch - 8ms/step\n",
      "Epoch 62/100\n",
      "3/3 - 0s - loss: 0.4206 - accuracy: 0.8427 - 25ms/epoch - 8ms/step\n",
      "Epoch 63/100\n",
      "3/3 - 0s - loss: 0.4234 - accuracy: 0.7978 - 24ms/epoch - 8ms/step\n",
      "Epoch 64/100\n",
      "3/3 - 0s - loss: 0.4184 - accuracy: 0.8090 - 34ms/epoch - 11ms/step\n",
      "Epoch 65/100\n",
      "3/3 - 0s - loss: 0.4163 - accuracy: 0.8427 - 23ms/epoch - 8ms/step\n",
      "Epoch 66/100\n",
      "3/3 - 0s - loss: 0.4155 - accuracy: 0.8539 - 22ms/epoch - 7ms/step\n",
      "Epoch 67/100\n",
      "3/3 - 0s - loss: 0.4127 - accuracy: 0.8539 - 23ms/epoch - 8ms/step\n",
      "Epoch 68/100\n",
      "3/3 - 0s - loss: 0.4119 - accuracy: 0.8427 - 24ms/epoch - 8ms/step\n",
      "Epoch 69/100\n",
      "3/3 - 0s - loss: 0.4104 - accuracy: 0.8315 - 26ms/epoch - 9ms/step\n",
      "Epoch 70/100\n",
      "3/3 - 0s - loss: 0.4100 - accuracy: 0.8315 - 23ms/epoch - 8ms/step\n",
      "Epoch 71/100\n",
      "3/3 - 0s - loss: 0.4051 - accuracy: 0.8539 - 24ms/epoch - 8ms/step\n",
      "Epoch 72/100\n",
      "3/3 - 0s - loss: 0.4037 - accuracy: 0.8427 - 23ms/epoch - 8ms/step\n",
      "Epoch 73/100\n",
      "3/3 - 0s - loss: 0.4028 - accuracy: 0.8539 - 24ms/epoch - 8ms/step\n",
      "Epoch 74/100\n",
      "3/3 - 0s - loss: 0.4012 - accuracy: 0.8539 - 23ms/epoch - 8ms/step\n",
      "Epoch 75/100\n",
      "3/3 - 0s - loss: 0.3991 - accuracy: 0.8539 - 24ms/epoch - 8ms/step\n",
      "Epoch 76/100\n",
      "3/3 - 0s - loss: 0.3968 - accuracy: 0.8539 - 23ms/epoch - 8ms/step\n",
      "Epoch 77/100\n",
      "3/3 - 0s - loss: 0.3962 - accuracy: 0.8315 - 23ms/epoch - 8ms/step\n",
      "Epoch 78/100\n",
      "3/3 - 0s - loss: 0.3955 - accuracy: 0.8539 - 24ms/epoch - 8ms/step\n",
      "Epoch 79/100\n",
      "3/3 - 0s - loss: 0.3929 - accuracy: 0.8315 - 24ms/epoch - 8ms/step\n",
      "Epoch 80/100\n",
      "3/3 - 0s - loss: 0.3905 - accuracy: 0.8764 - 23ms/epoch - 8ms/step\n",
      "Epoch 81/100\n",
      "3/3 - 0s - loss: 0.3888 - accuracy: 0.8539 - 24ms/epoch - 8ms/step\n",
      "Epoch 82/100\n",
      "3/3 - 0s - loss: 0.3903 - accuracy: 0.8539 - 26ms/epoch - 9ms/step\n",
      "Epoch 83/100\n",
      "3/3 - 0s - loss: 0.3874 - accuracy: 0.8539 - 25ms/epoch - 8ms/step\n",
      "Epoch 84/100\n",
      "3/3 - 0s - loss: 0.3850 - accuracy: 0.8427 - 24ms/epoch - 8ms/step\n",
      "Epoch 85/100\n",
      "3/3 - 0s - loss: 0.3839 - accuracy: 0.8652 - 24ms/epoch - 8ms/step\n",
      "Epoch 86/100\n",
      "3/3 - 0s - loss: 0.3830 - accuracy: 0.8652 - 23ms/epoch - 8ms/step\n",
      "Epoch 87/100\n",
      "3/3 - 0s - loss: 0.3820 - accuracy: 0.8652 - 23ms/epoch - 8ms/step\n",
      "Epoch 88/100\n",
      "3/3 - 0s - loss: 0.3806 - accuracy: 0.8652 - 23ms/epoch - 8ms/step\n",
      "Epoch 89/100\n",
      "3/3 - 0s - loss: 0.3781 - accuracy: 0.8539 - 22ms/epoch - 7ms/step\n",
      "Epoch 90/100\n",
      "3/3 - 0s - loss: 0.3778 - accuracy: 0.8539 - 23ms/epoch - 8ms/step\n",
      "Epoch 91/100\n",
      "3/3 - 0s - loss: 0.3753 - accuracy: 0.8539 - 24ms/epoch - 8ms/step\n",
      "Epoch 92/100\n",
      "3/3 - 0s - loss: 0.3737 - accuracy: 0.8764 - 23ms/epoch - 8ms/step\n",
      "Epoch 93/100\n",
      "3/3 - 0s - loss: 0.3728 - accuracy: 0.8652 - 23ms/epoch - 8ms/step\n",
      "Epoch 94/100\n",
      "3/3 - 0s - loss: 0.3708 - accuracy: 0.8652 - 23ms/epoch - 8ms/step\n",
      "Epoch 95/100\n",
      "3/3 - 0s - loss: 0.3701 - accuracy: 0.8652 - 23ms/epoch - 8ms/step\n",
      "Epoch 96/100\n",
      "3/3 - 0s - loss: 0.3686 - accuracy: 0.8764 - 23ms/epoch - 8ms/step\n",
      "Epoch 97/100\n",
      "3/3 - 0s - loss: 0.3677 - accuracy: 0.8652 - 23ms/epoch - 8ms/step\n",
      "Epoch 98/100\n",
      "3/3 - 0s - loss: 0.3666 - accuracy: 0.8652 - 22ms/epoch - 7ms/step\n",
      "Epoch 99/100\n",
      "3/3 - 0s - loss: 0.3649 - accuracy: 0.8539 - 24ms/epoch - 8ms/step\n",
      "Epoch 100/100\n",
      "3/3 - 0s - loss: 0.3646 - accuracy: 0.8539 - 24ms/epoch - 8ms/step\n"
     ]
    }
   ],
   "source": [
    "classifier = NNClassifier()\n",
    "history = classifier.train(trainX, trainY)"
   ]
  },
  {
   "cell_type": "code",
   "execution_count": 6,
   "metadata": {},
   "outputs": [
    {
     "name": "stdout",
     "output_type": "stream",
     "text": [
      "FNN train accuracy on BERT vectors: 0.865168571472168\n"
     ]
    }
   ],
   "source": [
    "bert_nn_train_acc = history.history[\"accuracy\"][-1]\n",
    "print(f\"FNN train accuracy on BERT vectors: {bert_nn_train_acc}\")"
   ]
  },
  {
   "cell_type": "markdown",
   "metadata": {},
   "source": [
    "And measure the accuracy on the test set."
   ]
  },
  {
   "cell_type": "code",
   "execution_count": 7,
   "metadata": {},
   "outputs": [
    {
     "name": "stdout",
     "output_type": "stream",
     "text": [
      "1/1 [==============================] - 0s 105ms/step\n",
      "FFNN test accuracy on BERT vectors: 0.6521739130434783\n"
     ]
    },
    {
     "name": "stderr",
     "output_type": "stream",
     "text": [
      "2022-11-01 12:53:47.841048: I tensorflow/core/grappler/optimizers/custom_graph_optimizer_registry.cc:114] Plugin optimizer for device_type GPU is enabled.\n"
     ]
    }
   ],
   "source": [
    "res = classifier.predict(testX)\n",
    "bert_nn_test_acc = evaluate(res, testY)\n",
    "print(f\"FFNN test accuracy on BERT vectors: {bert_nn_test_acc}\")"
   ]
  },
  {
   "cell_type": "markdown",
   "metadata": {},
   "source": [
    "Depending on random, the NN classifier might perform better or worse (or the same) than the 1-nearest neighbor algorithm."
   ]
  },
  {
   "cell_type": "markdown",
   "metadata": {},
   "source": [
    "Now we load fastText word embeddings and train a convolutional network on them."
   ]
  },
  {
   "cell_type": "code",
   "execution_count": 8,
   "metadata": {
    "scrolled": true,
    "tags": []
   },
   "outputs": [
    {
     "name": "stdout",
     "output_type": "stream",
     "text": [
      "Epoch 1/30\n"
     ]
    },
    {
     "name": "stderr",
     "output_type": "stream",
     "text": [
      "2022-11-01 12:53:48.221930: I tensorflow/core/grappler/optimizers/custom_graph_optimizer_registry.cc:114] Plugin optimizer for device_type GPU is enabled.\n"
     ]
    },
    {
     "name": "stdout",
     "output_type": "stream",
     "text": [
      "3/3 - 1s - loss: 0.7924 - accuracy: 0.4944 - 620ms/epoch - 207ms/step\n",
      "Epoch 2/30\n",
      "3/3 - 0s - loss: 0.6302 - accuracy: 0.6966 - 52ms/epoch - 17ms/step\n",
      "Epoch 3/30\n",
      "3/3 - 0s - loss: 0.5488 - accuracy: 0.7640 - 31ms/epoch - 10ms/step\n",
      "Epoch 4/30\n",
      "3/3 - 0s - loss: 0.4981 - accuracy: 0.7528 - 33ms/epoch - 11ms/step\n",
      "Epoch 5/30\n",
      "3/3 - 0s - loss: 0.5099 - accuracy: 0.7079 - 34ms/epoch - 11ms/step\n",
      "Epoch 6/30\n",
      "3/3 - 0s - loss: 0.4721 - accuracy: 0.7303 - 31ms/epoch - 10ms/step\n",
      "Epoch 7/30\n",
      "3/3 - 0s - loss: 0.4752 - accuracy: 0.7303 - 30ms/epoch - 10ms/step\n",
      "Epoch 8/30\n",
      "3/3 - 0s - loss: 0.4024 - accuracy: 0.8539 - 31ms/epoch - 10ms/step\n",
      "Epoch 9/30\n",
      "3/3 - 0s - loss: 0.4059 - accuracy: 0.8202 - 33ms/epoch - 11ms/step\n",
      "Epoch 10/30\n",
      "3/3 - 0s - loss: 0.3396 - accuracy: 0.8764 - 31ms/epoch - 10ms/step\n",
      "Epoch 11/30\n",
      "3/3 - 0s - loss: 0.3318 - accuracy: 0.9101 - 29ms/epoch - 10ms/step\n",
      "Epoch 12/30\n",
      "3/3 - 0s - loss: 0.3407 - accuracy: 0.8315 - 30ms/epoch - 10ms/step\n",
      "Epoch 13/30\n",
      "3/3 - 0s - loss: 0.2885 - accuracy: 0.8652 - 31ms/epoch - 10ms/step\n",
      "Epoch 14/30\n",
      "3/3 - 0s - loss: 0.2716 - accuracy: 0.9213 - 29ms/epoch - 10ms/step\n",
      "Epoch 15/30\n",
      "3/3 - 0s - loss: 0.3215 - accuracy: 0.8989 - 30ms/epoch - 10ms/step\n",
      "Epoch 16/30\n",
      "3/3 - 0s - loss: 0.3126 - accuracy: 0.8764 - 30ms/epoch - 10ms/step\n",
      "Epoch 17/30\n",
      "3/3 - 0s - loss: 0.2576 - accuracy: 0.9326 - 30ms/epoch - 10ms/step\n",
      "Epoch 18/30\n",
      "3/3 - 0s - loss: 0.2025 - accuracy: 0.9663 - 31ms/epoch - 10ms/step\n",
      "Epoch 19/30\n",
      "3/3 - 0s - loss: 0.2347 - accuracy: 0.9438 - 31ms/epoch - 10ms/step\n",
      "Epoch 20/30\n",
      "3/3 - 0s - loss: 0.2019 - accuracy: 0.9663 - 31ms/epoch - 10ms/step\n",
      "Epoch 21/30\n",
      "3/3 - 0s - loss: 0.2059 - accuracy: 0.9438 - 32ms/epoch - 11ms/step\n",
      "Epoch 22/30\n",
      "3/3 - 0s - loss: 0.1966 - accuracy: 0.9326 - 31ms/epoch - 10ms/step\n",
      "Epoch 23/30\n",
      "3/3 - 0s - loss: 0.1993 - accuracy: 0.9326 - 31ms/epoch - 10ms/step\n",
      "Epoch 24/30\n",
      "3/3 - 0s - loss: 0.1743 - accuracy: 0.9438 - 30ms/epoch - 10ms/step\n",
      "Epoch 25/30\n",
      "3/3 - 0s - loss: 0.1924 - accuracy: 0.9101 - 32ms/epoch - 11ms/step\n",
      "Epoch 26/30\n",
      "3/3 - 0s - loss: 0.1922 - accuracy: 0.9326 - 32ms/epoch - 11ms/step\n",
      "Epoch 27/30\n",
      "3/3 - 0s - loss: 0.1522 - accuracy: 0.9551 - 31ms/epoch - 10ms/step\n",
      "Epoch 28/30\n",
      "3/3 - 0s - loss: 0.1429 - accuracy: 0.9775 - 30ms/epoch - 10ms/step\n",
      "Epoch 29/30\n",
      "3/3 - 0s - loss: 0.1309 - accuracy: 0.9551 - 31ms/epoch - 10ms/step\n",
      "Epoch 30/30\n",
      "3/3 - 0s - loss: 0.1396 - accuracy: 0.9663 - 30ms/epoch - 10ms/step\n"
     ]
    }
   ],
   "source": [
    "data = loadData(\"../../data/dataset_vectorized_fasttext.json\")\n",
    "\n",
    "maxLen = 5\n",
    "trainX, trainY, testX, testY = prepareTrainTestXYWords(data, maxLen)\n",
    "\n",
    "classifier = NNClassifier(model=\"CNN\", vectorSpaceSize=300)\n",
    "history = classifier.train(trainX, trainY)"
   ]
  },
  {
   "cell_type": "code",
   "execution_count": 17,
   "metadata": {},
   "outputs": [
    {
     "name": "stdout",
     "output_type": "stream",
     "text": [
      "CNN train accuracy on fastText vectors: 0.8539326190948486\n"
     ]
    }
   ],
   "source": [
    "fasttext_nn_train_acc = history.history['accuracy'][-1]\n",
    "print(f\"CNN train accuracy on fastText vectors: {fasttext_nn_train_acc}\")"
   ]
  },
  {
   "cell_type": "code",
   "execution_count": 18,
   "metadata": {},
   "outputs": [
    {
     "name": "stdout",
     "output_type": "stream",
     "text": [
      "1/1 [==============================] - 0s 37ms/step\n",
      "CNN test accuracy on fastText vectors: 0.6956521739130435\n"
     ]
    },
    {
     "name": "stderr",
     "output_type": "stream",
     "text": [
      "2022-11-01 12:54:37.972503: I tensorflow/core/grappler/optimizers/custom_graph_optimizer_registry.cc:114] Plugin optimizer for device_type GPU is enabled.\n"
     ]
    }
   ],
   "source": [
    "res = classifier.predict(testX)\n",
    "fasttext_nn_test_acc = evaluate(res, testY)\n",
    "print(f\"CNN test accuracy on fastText vectors: {fasttext_nn_test_acc}\")"
   ]
  },
  {
   "cell_type": "markdown",
   "metadata": {},
   "source": [
    "Typically the convolutional network performs better than the previous algorithms."
   ]
  },
  {
   "cell_type": "markdown",
   "metadata": {},
   "source": [
    "Here is the whole set of results plotted"
   ]
  },
  {
   "cell_type": "code",
   "execution_count": 19,
   "metadata": {},
   "outputs": [
    {
     "data": {
      "image/png": "[encoded data removed]",
      "text/plain": [
       "<Figure size 800x600 with 1 Axes>"
      ]
     },
     "metadata": {},
     "output_type": "display_data"
    }
   ],
   "source": [
    "import matplotlib.pyplot as plt\n",
    "plt.rcParams[\"figure.figsize\"] = (8,6)\n",
    "test_accs = [bert_neigh_test_acc, bert_nn_test_acc, fasttext_nn_test_acc]\n",
    "train_accs = [bert_neigh_train_acc, bert_nn_train_acc, fasttext_nn_train_acc]\n",
    "labels = [\"BERT nearest neighbors\", \"BERT NN\", \"fastText CNN\"]\n",
    "width = 0.3\n",
    "plt.bar(np.arange(len(test_accs)) - (width/2), test_accs, width=width)\n",
    "plt.bar(np.arange(len(train_accs)) + (width/2), train_accs, width=width)\n",
    "plt.xticks(range(len(labels)), labels)\n",
    "plt.ylabel(\"Accuracy\")\n",
    "plt.title(\"Classical algorithm results\")\n",
    "plt.legend([\"Test\", \"Train\"])\n",
    "plt.show()"
   ]
  },
  {
   "cell_type": "markdown",
   "metadata": {},
   "source": [
    "A promising future direction to explore seems to be implementing vectorizing using BERT that outputs word embeddings for each word in a sentence and training a convolutional network on top of them."
   ]
  }
 ],
 "metadata": {
  "kernelspec": {
   "display_name": "Python 3 (ipykernel)",
   "language": "python",
   "name": "python3"
  },
  "language_info": {
   "codemirror_mode": {
    "name": "ipython",
    "version": 3
   },
   "file_extension": ".py",
   "mimetype": "text/x-python",
   "name": "python",
   "nbconvert_exporter": "python",
   "pygments_lexer": "ipython3",
   "version": "3.9.15"
  },
  "vscode": {
   "interpreter": {
    "hash": "a665b5d41d17b532ea9890333293a1b812fa0b73c9c25c950b3cedf1bebd0438"
   }
  }
 },
 "nbformat": 4,
 "nbformat_minor": 4
}
