{
 "cells": [
  {
   "attachments": {},
   "cell_type": "markdown",
   "metadata": {},
   "source": [
    "# Quantum transfer learning with Pennylane"
   ]
  },
  {
   "attachments": {},
   "cell_type": "markdown",
   "metadata": {},
   "source": [
    "Example based on the Quantum transfer learning pennylane tutorial but adapted for an NLP use case.\n",
    "\n",
    "https://pennylane.ai/qml/demos/tutorial_quantum_transfer_learning"
   ]
  },
  {
   "cell_type": "code",
   "execution_count": 27,
   "metadata": {},
   "outputs": [],
   "source": [
    "import pandas as pd\n",
    "from sklearn.preprocessing import OneHotEncoder\n",
    "from tqdm import tqdm\n",
    "from sklearn.model_selection import train_test_split\n",
    "\n",
    "# PyTorch\n",
    "import torch\n",
    "import torch.nn as nn\n",
    "import torch.optim as optim\n",
    "from torch.optim import lr_scheduler\n",
    "from torch.utils.data import Dataset, DataLoader\n",
    "\n",
    "# Pennylane\n",
    "import pennylane as qml\n",
    "from pennylane import numpy as np\n",
    "\n",
    "torch.manual_seed(42)\n",
    "np.random.seed(42)\n",
    "\n",
    "# Plotting\n",
    "import matplotlib.pyplot as plt"
   ]
  },
  {
   "attachments": {},
   "cell_type": "markdown",
   "metadata": {},
   "source": [
    "## Setting of the main hyper-parameters of the model"
   ]
  },
  {
   "cell_type": "code",
   "execution_count": 28,
   "metadata": {},
   "outputs": [],
   "source": [
    "n_qubits = 3                # Number of qubits\n",
    "step = 1e-3               # Learning rate\n",
    "batch_size = 128              # Number of samples for each training step\n",
    "num_epochs = 50              # Number of training epochs\n",
    "q_depth = 6                 # Depth of the quantum circuit (number of variational layers)\n",
    "gamma_lr_scheduler = 0.5    # Learning rate reduction applied every 10 epochs.\n",
    "q_delta = 0.01              # Initial spread of random quantum weights"
   ]
  },
  {
   "cell_type": "code",
   "execution_count": 29,
   "metadata": {},
   "outputs": [],
   "source": [
    "dev = qml.device(\"default.qubit\", wires=n_qubits)"
   ]
  },
  {
   "cell_type": "code",
   "execution_count": 30,
   "metadata": {},
   "outputs": [
    {
     "name": "stdout",
     "output_type": "stream",
     "text": [
      "Device used: cpu\n"
     ]
    }
   ],
   "source": [
    "device = torch.device(\"cuda:0\" if torch.cuda.is_available() else \"cpu\")\n",
    "\n",
    "#Pennylane doesnt seem to support Mac Apple Silicon yet\n",
    "#device = torch.device(\"mps\" if torch.backends.mps.is_available() else \"cpu\")\n",
    "\n",
    "print('Device used:', device)\n"
   ]
  },
  {
   "attachments": {},
   "cell_type": "markdown",
   "metadata": {},
   "source": [
    "## Dataset loading"
   ]
  },
  {
   "attachments": {},
   "cell_type": "markdown",
   "metadata": {},
   "source": [
    "As input we have a dataset of sentences, their corresponding sentiment (1 or 2) and their BERT embedding (768 dimensions)"
   ]
  },
  {
   "cell_type": "code",
   "execution_count": 67,
   "metadata": {},
   "outputs": [
    {
     "data": {
      "text/html": [
       "<div>\n",
       "<style scoped>\n",
       "    .dataframe tbody tr th:only-of-type {\n",
       "        vertical-align: middle;\n",
       "    }\n",
       "\n",
       "    .dataframe tbody tr th {\n",
       "        vertical-align: top;\n",
       "    }\n",
       "\n",
       "    .dataframe thead th {\n",
       "        text-align: right;\n",
       "    }\n",
       "</style>\n",
       "<table border=\"1\" class=\"dataframe\">\n",
       "  <thead>\n",
       "    <tr style=\"text-align: right;\">\n",
       "      <th></th>\n",
       "      <th>class</th>\n",
       "      <th>sentence</th>\n",
       "      <th>sentence_embedding</th>\n",
       "    </tr>\n",
       "  </thead>\n",
       "  <tbody>\n",
       "    <tr>\n",
       "      <th>0</th>\n",
       "      <td>1</td>\n",
       "      <td>this one seemed inappropriate</td>\n",
       "      <td>[-7.07429171e-01 -9.20562893e-02  5.68922281e-...</td>\n",
       "    </tr>\n",
       "    <tr>\n",
       "      <th>1</th>\n",
       "      <td>1</td>\n",
       "      <td>Its Time Has Passed</td>\n",
       "      <td>[-0.93544328 -0.35473078 -0.44945127  0.866203...</td>\n",
       "    </tr>\n",
       "    <tr>\n",
       "      <th>2</th>\n",
       "      <td>1</td>\n",
       "      <td>This documentary is offensive</td>\n",
       "      <td>[-8.98015499e-01 -3.35524023e-01  5.96269146e-...</td>\n",
       "    </tr>\n",
       "    <tr>\n",
       "      <th>3</th>\n",
       "      <td>2</td>\n",
       "      <td>this one was ok</td>\n",
       "      <td>[-7.29380667e-01 -1.04420066e-01  7.20309854e-...</td>\n",
       "    </tr>\n",
       "    <tr>\n",
       "      <th>4</th>\n",
       "      <td>2</td>\n",
       "      <td>The lyrics are incredible</td>\n",
       "      <td>[-8.35999787e-01 -2.15908080e-01  1.77436873e-...</td>\n",
       "    </tr>\n",
       "  </tbody>\n",
       "</table>\n",
       "</div>"
      ],
      "text/plain": [
       "   class                       sentence  \\\n",
       "0      1  this one seemed inappropriate   \n",
       "1      1            Its Time Has Passed   \n",
       "2      1  This documentary is offensive   \n",
       "3      2                this one was ok   \n",
       "4      2      The lyrics are incredible   \n",
       "\n",
       "                                  sentence_embedding  \n",
       "0  [-7.07429171e-01 -9.20562893e-02  5.68922281e-...  \n",
       "1  [-0.93544328 -0.35473078 -0.44945127  0.866203...  \n",
       "2  [-8.98015499e-01 -3.35524023e-01  5.96269146e-...  \n",
       "3  [-7.29380667e-01 -1.04420066e-01  7.20309854e-...  \n",
       "4  [-8.35999787e-01 -2.15908080e-01  1.77436873e-...  "
      ]
     },
     "execution_count": 67,
     "metadata": {},
     "output_type": "execute_result"
    }
   ],
   "source": [
    "df_dataset = pd.read_csv('../../data/amazonreview_reduced_bert_train_sentence.csv')\n",
    "df_dataset.head(5)"
   ]
  },
  {
   "attachments": {},
   "cell_type": "markdown",
   "metadata": {},
   "source": [
    "We can observe that the dataset is almost perfectly balanced (51.8% and 48.2%). Thus the accuracy should be a good metric to evaluate our model."
   ]
  },
  {
   "cell_type": "code",
   "execution_count": 72,
   "metadata": {},
   "outputs": [
    {
     "name": "stdout",
     "output_type": "stream",
     "text": [
      "2    1815\n",
      "1    1685\n",
      "Name: class, dtype: int64\n"
     ]
    }
   ],
   "source": [
    "print(df_dataset[\"class\"].value_counts())"
   ]
  },
  {
   "cell_type": "code",
   "execution_count": 32,
   "metadata": {},
   "outputs": [],
   "source": [
    "def preprocess_dataset(csv_file):\n",
    "    \"\"\"\n",
    "    Preprocess function for the dataset + Create train/test split\n",
    "    \"\"\"\n",
    "    df_dataset = pd.read_csv(csv_file)\n",
    "\n",
    "    df_dataset['sentence_embedding'] = np.array([np.fromstring(embedding.strip(' []'), sep=' ') for embedding in df_dataset['sentence_embedding']]).numpy().tolist()\n",
    "\n",
    "    #Preprocess labels\n",
    "    enc = OneHotEncoder(handle_unknown='ignore')\n",
    "    enc.fit(df_dataset['class'].values.reshape(-1, 1))\n",
    "    df_dataset['class'] = enc.transform(df_dataset['class'].values.reshape(-1, 1)).toarray().tolist()\n",
    "\n",
    "    X_train, X_test, y_train, y_test = train_test_split(df_dataset['sentence_embedding'], df_dataset['class'], test_size=0.2)\n",
    "\n",
    "    return X_train, X_test, y_train, y_test\n",
    "\n"
   ]
  },
  {
   "cell_type": "code",
   "execution_count": 33,
   "metadata": {},
   "outputs": [],
   "source": [
    "class BertEmbeddingDataset(Dataset):\n",
    "    \"\"\"Bert Embedding dataset.\"\"\"\n",
    "\n",
    "    def __init__(self, X, Y):\n",
    "        self.X = X\n",
    "        self.Y = Y\n",
    "\n",
    "\n",
    "    def __len__(self):\n",
    "        return len(self.X)\n",
    "\n",
    "    def __getitem__(self, idx):\n",
    "        if torch.is_tensor(idx):\n",
    "            idx = idx.tolist()\n",
    "\n",
    "        return torch.Tensor(self.X.iloc[idx]), torch.Tensor(self.Y.iloc[idx])"
   ]
  },
  {
   "cell_type": "code",
   "execution_count": 34,
   "metadata": {},
   "outputs": [],
   "source": [
    "X_train, X_test, y_train, y_test = preprocess_dataset('../../data/amazonreview_reduced_bert_train_sentence.csv')"
   ]
  },
  {
   "cell_type": "code",
   "execution_count": 35,
   "metadata": {},
   "outputs": [],
   "source": [
    "train_dataset = BertEmbeddingDataset(X_train, y_train)\n",
    "training_dataloader = DataLoader(train_dataset, batch_size=batch_size, shuffle=True)\n",
    "\n",
    "validation_dataset = BertEmbeddingDataset(X_test, y_test)\n",
    "validation_dataloader = DataLoader(validation_dataset, batch_size=batch_size, shuffle=True)"
   ]
  },
  {
   "attachments": {},
   "cell_type": "markdown",
   "metadata": {},
   "source": [
    "## Variational quantum circuit\n"
   ]
  },
  {
   "cell_type": "code",
   "execution_count": 36,
   "metadata": {},
   "outputs": [],
   "source": [
    "def H_layer(nqubits):\n",
    "    \"\"\"Layer of single-qubit Hadamard gates.\n",
    "    \"\"\"\n",
    "    for idx in range(nqubits):\n",
    "        qml.Hadamard(wires=idx)\n",
    "\n",
    "\n",
    "def RY_layer(w):\n",
    "    \"\"\"Layer of parametrized qubit rotations around the y axis.\n",
    "    \"\"\"\n",
    "    for idx, element in enumerate(w):\n",
    "        qml.RY(element, wires=idx)\n",
    "\n",
    "\n",
    "def entangling_layer(nqubits):\n",
    "    \"\"\"Layer of CNOTs followed by another shifted layer of CNOT.\n",
    "    \"\"\"\n",
    "    # In other words it should apply something like :\n",
    "    # CNOT  CNOT  CNOT  CNOT...  CNOT\n",
    "    #   CNOT  CNOT  CNOT...  CNOT\n",
    "    for i in range(0, nqubits - 1, 2):  # Loop over even indices: i=0,2,...N-2\n",
    "        qml.CNOT(wires=[i, i + 1])\n",
    "    for i in range(1, nqubits - 1, 2):  # Loop over odd indices:  i=1,3,...N-3\n",
    "        qml.CNOT(wires=[i, i + 1])"
   ]
  },
  {
   "cell_type": "code",
   "execution_count": 37,
   "metadata": {},
   "outputs": [],
   "source": [
    "@qml.qnode(dev, interface=\"torch\")\n",
    "def quantum_net(q_input_features, q_weights_flat):\n",
    "    \"\"\"\n",
    "    The variational quantum circuit.\n",
    "    \"\"\"\n",
    "\n",
    "    # Reshape weights\n",
    "    q_weights = q_weights_flat.reshape(q_depth, n_qubits)\n",
    "\n",
    "    # Start from state |+> , unbiased w.r.t. |0> and |1>\n",
    "    H_layer(n_qubits)\n",
    "\n",
    "    # Embed features in the quantum node\n",
    "    RY_layer(q_input_features)\n",
    "\n",
    "    # Sequence of trainable variational layers\n",
    "    for k in range(q_depth):\n",
    "        entangling_layer(n_qubits)\n",
    "        RY_layer(q_weights[k])\n",
    "\n",
    "    # Expectation values in the Z basis\n",
    "    exp_vals = [qml.expval(qml.PauliZ(position)) for position in range(n_qubits)]\n",
    "    return tuple(exp_vals)"
   ]
  },
  {
   "attachments": {},
   "cell_type": "markdown",
   "metadata": {},
   "source": [
    "## Dressed quantum circuit"
   ]
  },
  {
   "attachments": {},
   "cell_type": "markdown",
   "metadata": {},
   "source": [
    "This is a concatenation of:\n",
    "\n",
    "* A classical pre-processing layer (nn.Linear).\n",
    "* A classical activation function (torch.tanh).\n",
    "* A constant np.pi/2.0 scaling.\n",
    "* The previously defined quantum circuit (quantum_net).\n",
    "* A classical post-processing layer (nn.Linear).\n",
    "* A classical activation function (torch.sigmoid)."
   ]
  },
  {
   "cell_type": "code",
   "execution_count": 38,
   "metadata": {},
   "outputs": [],
   "source": [
    "class DressedQuantumNet(nn.Module):\n",
    "    \"\"\"\n",
    "    Torch module implementing the *dressed* quantum net.\n",
    "    \"\"\"\n",
    "\n",
    "    def __init__(self):\n",
    "        \"\"\"\n",
    "        Definition of the *dressed* layout.\n",
    "        \"\"\"\n",
    "\n",
    "        super().__init__()\n",
    "        self.pre_net = nn.Linear(768, n_qubits)\n",
    "        self.q_params = nn.Parameter(q_delta * torch.randn(q_depth * n_qubits))\n",
    "        self.post_net = nn.Linear(n_qubits, 2)\n",
    "        self.sigmoid = nn.Sigmoid()\n",
    "\n",
    "    def forward(self, input_features):\n",
    "        \"\"\"\n",
    "        Defining how tensors are supposed to move through the *dressed* quantum\n",
    "        net.\n",
    "        \"\"\"\n",
    "\n",
    "        # obtain the input features for the quantum circuit\n",
    "        # by reducing the feature dimension from 512 to 4\n",
    "        pre_out = self.pre_net(input_features)\n",
    "        q_in = torch.tanh(pre_out) * np.pi / 2.0\n",
    "\n",
    "        # Apply the quantum circuit to each element of the batch and append to q_out\n",
    "        q_out = torch.Tensor(0, n_qubits)\n",
    "        q_out = q_out.to(device)\n",
    "        for elem in q_in:\n",
    "            q_out_elem = torch.hstack(quantum_net(elem, self.q_params)).float().unsqueeze(0)\n",
    "            q_out = torch.cat((q_out, q_out_elem))\n",
    "\n",
    "        # return the two-dimensional prediction from the postprocessing layer\n",
    "        return self.sigmoid(self.post_net(q_out))"
   ]
  },
  {
   "cell_type": "code",
   "execution_count": 39,
   "metadata": {},
   "outputs": [],
   "source": [
    "model_hybrid = DressedQuantumNet()\n",
    "\n",
    "# Use CUDA or CPU according to the \"device\" object.\n",
    "model_hybrid = model_hybrid.to(device)"
   ]
  },
  {
   "attachments": {},
   "cell_type": "markdown",
   "metadata": {},
   "source": [
    "## Training and results"
   ]
  },
  {
   "attachments": {},
   "cell_type": "markdown",
   "metadata": {},
   "source": [
    "Here we use a Binary Cross Entropy Loss, an Adam optimizer and a scheduler reducing the learning rate at an exponentially rate. "
   ]
  },
  {
   "cell_type": "code",
   "execution_count": 40,
   "metadata": {},
   "outputs": [],
   "source": [
    "criterion = nn.BCELoss()\n",
    "optimizer_hybrid = optim.Adam(model_hybrid.parameters(), lr=step)\n",
    "exp_lr_scheduler = lr_scheduler.StepLR(\n",
    "    optimizer_hybrid, step_size=10, gamma=gamma_lr_scheduler\n",
    ")\n"
   ]
  },
  {
   "attachments": {},
   "cell_type": "markdown",
   "metadata": {},
   "source": [
    "We use tensorboard to log the hyperparameters, the loss and the accuracy of the model:"
   ]
  },
  {
   "cell_type": "code",
   "execution_count": 41,
   "metadata": {},
   "outputs": [],
   "source": [
    "from torch.utils.tensorboard import SummaryWriter\n",
    "summary_writer = SummaryWriter()"
   ]
  },
  {
   "cell_type": "code",
   "execution_count": 42,
   "metadata": {},
   "outputs": [
    {
     "name": "stderr",
     "output_type": "stream",
     "text": [
      "Training: 100%|██████████| 22/22 [00:20<00:00,  1.09it/s, loss=0.653, acc=0.598]\n",
      "Validation: 100%|██████████| 6/6 [00:02<00:00,  2.22it/s, loss=0.626, acc=0.700]\n",
      "Training: 100%|██████████| 22/22 [00:19<00:00,  1.14it/s, loss=0.597, acc=0.804]\n",
      "Validation: 100%|██████████| 6/6 [00:02<00:00,  2.21it/s, loss=0.634, acc=0.617]\n",
      "Training: 100%|██████████| 22/22 [00:19<00:00,  1.14it/s, loss=0.612, acc=0.732]\n",
      "Validation: 100%|██████████| 6/6 [00:02<00:00,  2.22it/s, loss=0.619, acc=0.750]\n",
      "Training: 100%|██████████| 22/22 [00:19<00:00,  1.14it/s, loss=0.603, acc=0.705]\n",
      "Validation: 100%|██████████| 6/6 [00:02<00:00,  2.21it/s, loss=0.605, acc=0.783]\n",
      "Training: 100%|██████████| 22/22 [00:19<00:00,  1.14it/s, loss=0.567, acc=0.777]\n",
      "Validation: 100%|██████████| 6/6 [00:02<00:00,  2.23it/s, loss=0.614, acc=0.667]\n",
      "Training: 100%|██████████| 22/22 [00:19<00:00,  1.14it/s, loss=0.553, acc=0.821]\n",
      "Validation: 100%|██████████| 6/6 [00:02<00:00,  2.22it/s, loss=0.575, acc=0.750]\n",
      "Training: 100%|██████████| 22/22 [00:19<00:00,  1.14it/s, loss=0.589, acc=0.732]\n",
      "Validation: 100%|██████████| 6/6 [00:02<00:00,  2.22it/s, loss=0.626, acc=0.700]\n",
      "Training: 100%|██████████| 22/22 [00:19<00:00,  1.13it/s, loss=0.590, acc=0.714]\n",
      "Validation: 100%|██████████| 6/6 [00:02<00:00,  2.18it/s, loss=0.555, acc=0.800]\n",
      "Training: 100%|██████████| 22/22 [00:19<00:00,  1.12it/s, loss=0.544, acc=0.804]\n",
      "Validation: 100%|██████████| 6/6 [00:02<00:00,  2.21it/s, loss=0.610, acc=0.667]\n",
      "Training: 100%|██████████| 22/22 [00:19<00:00,  1.13it/s, loss=0.577, acc=0.741]\n",
      "Validation: 100%|██████████| 6/6 [00:02<00:00,  2.23it/s, loss=0.587, acc=0.750]\n",
      "Training: 100%|██████████| 22/22 [00:19<00:00,  1.13it/s, loss=0.560, acc=0.750]\n",
      "Validation: 100%|██████████| 6/6 [00:02<00:00,  2.21it/s, loss=0.582, acc=0.700]\n",
      "Training: 100%|██████████| 22/22 [00:19<00:00,  1.13it/s, loss=0.543, acc=0.750]\n",
      "Validation: 100%|██████████| 6/6 [00:02<00:00,  2.21it/s, loss=0.553, acc=0.817]\n",
      "Training: 100%|██████████| 22/22 [00:19<00:00,  1.10it/s, loss=0.525, acc=0.804]\n",
      "Validation: 100%|██████████| 6/6 [00:02<00:00,  2.20it/s, loss=0.516, acc=0.833]\n",
      "Training: 100%|██████████| 22/22 [00:19<00:00,  1.11it/s, loss=0.544, acc=0.777]\n",
      "Validation: 100%|██████████| 6/6 [00:02<00:00,  2.21it/s, loss=0.539, acc=0.750]\n",
      "Training: 100%|██████████| 22/22 [00:19<00:00,  1.12it/s, loss=0.533, acc=0.786]\n",
      "Validation: 100%|██████████| 6/6 [00:02<00:00,  2.20it/s, loss=0.556, acc=0.717]\n",
      "Training: 100%|██████████| 22/22 [00:19<00:00,  1.12it/s, loss=0.539, acc=0.786]\n",
      "Validation: 100%|██████████| 6/6 [00:02<00:00,  2.22it/s, loss=0.542, acc=0.783]\n",
      "Training: 100%|██████████| 22/22 [00:19<00:00,  1.12it/s, loss=0.521, acc=0.830]\n",
      "Validation: 100%|██████████| 6/6 [00:02<00:00,  2.21it/s, loss=0.521, acc=0.800]\n",
      "Training: 100%|██████████| 22/22 [00:19<00:00,  1.11it/s, loss=0.556, acc=0.732]\n",
      "Validation: 100%|██████████| 6/6 [00:02<00:00,  2.19it/s, loss=0.535, acc=0.817]\n",
      "Training: 100%|██████████| 22/22 [00:19<00:00,  1.15it/s, loss=0.512, acc=0.830]\n",
      "Validation: 100%|██████████| 6/6 [00:02<00:00,  2.23it/s, loss=0.540, acc=0.817]\n",
      "Training: 100%|██████████| 22/22 [00:19<00:00,  1.14it/s, loss=0.571, acc=0.750]\n",
      "Validation: 100%|██████████| 6/6 [00:02<00:00,  2.21it/s, loss=0.563, acc=0.750]\n",
      "Training: 100%|██████████| 22/22 [00:19<00:00,  1.14it/s, loss=0.546, acc=0.732]\n",
      "Validation: 100%|██████████| 6/6 [00:02<00:00,  2.23it/s, loss=0.530, acc=0.750]\n",
      "Training: 100%|██████████| 22/22 [00:19<00:00,  1.14it/s, loss=0.497, acc=0.839]\n",
      "Validation: 100%|██████████| 6/6 [00:02<00:00,  2.22it/s, loss=0.536, acc=0.767]\n",
      "Training: 100%|██████████| 22/22 [00:19<00:00,  1.13it/s, loss=0.504, acc=0.830]\n",
      "Validation: 100%|██████████| 6/6 [00:02<00:00,  2.21it/s, loss=0.514, acc=0.867]\n",
      "Training: 100%|██████████| 22/22 [00:19<00:00,  1.14it/s, loss=0.527, acc=0.804]\n",
      "Validation: 100%|██████████| 6/6 [00:02<00:00,  2.24it/s, loss=0.518, acc=0.800]\n",
      "Training: 100%|██████████| 22/22 [00:18<00:00,  1.16it/s, loss=0.561, acc=0.723]\n",
      "Validation: 100%|██████████| 6/6 [00:02<00:00,  2.23it/s, loss=0.545, acc=0.767]\n",
      "Training: 100%|██████████| 22/22 [00:19<00:00,  1.13it/s, loss=0.483, acc=0.875]\n",
      "Validation: 100%|██████████| 6/6 [00:02<00:00,  2.22it/s, loss=0.553, acc=0.767]\n",
      "Training: 100%|██████████| 22/22 [00:19<00:00,  1.15it/s, loss=0.570, acc=0.714]\n",
      "Validation: 100%|██████████| 6/6 [00:02<00:00,  2.21it/s, loss=0.561, acc=0.750]\n",
      "Training: 100%|██████████| 22/22 [00:19<00:00,  1.14it/s, loss=0.524, acc=0.786]\n",
      "Validation: 100%|██████████| 6/6 [00:02<00:00,  2.23it/s, loss=0.582, acc=0.733]\n",
      "Training: 100%|██████████| 22/22 [00:19<00:00,  1.15it/s, loss=0.548, acc=0.768]\n",
      "Validation: 100%|██████████| 6/6 [00:02<00:00,  2.21it/s, loss=0.514, acc=0.833]\n",
      "Training: 100%|██████████| 22/22 [00:19<00:00,  1.15it/s, loss=0.504, acc=0.839]\n",
      "Validation: 100%|██████████| 6/6 [00:02<00:00,  2.23it/s, loss=0.543, acc=0.783]\n",
      "Training: 100%|██████████| 22/22 [00:19<00:00,  1.15it/s, loss=0.559, acc=0.741]\n",
      "Validation: 100%|██████████| 6/6 [00:02<00:00,  2.22it/s, loss=0.513, acc=0.800]\n",
      "Training: 100%|██████████| 22/22 [00:19<00:00,  1.14it/s, loss=0.542, acc=0.750]\n",
      "Validation: 100%|██████████| 6/6 [00:02<00:00,  2.22it/s, loss=0.512, acc=0.817]\n",
      "Training: 100%|██████████| 22/22 [00:19<00:00,  1.14it/s, loss=0.564, acc=0.732]\n",
      "Validation: 100%|██████████| 6/6 [00:02<00:00,  2.24it/s, loss=0.479, acc=0.850]\n",
      "Training: 100%|██████████| 22/22 [00:19<00:00,  1.15it/s, loss=0.541, acc=0.795]\n",
      "Validation: 100%|██████████| 6/6 [00:02<00:00,  2.22it/s, loss=0.551, acc=0.767]\n",
      "Training: 100%|██████████| 22/22 [00:19<00:00,  1.15it/s, loss=0.545, acc=0.741]\n",
      "Validation: 100%|██████████| 6/6 [00:02<00:00,  2.25it/s, loss=0.520, acc=0.817]\n",
      "Training: 100%|██████████| 22/22 [00:19<00:00,  1.15it/s, loss=0.463, acc=0.866]\n",
      "Validation: 100%|██████████| 6/6 [00:02<00:00,  2.23it/s, loss=0.520, acc=0.733]\n",
      "Training: 100%|██████████| 22/22 [00:19<00:00,  1.15it/s, loss=0.518, acc=0.795]\n",
      "Validation: 100%|██████████| 6/6 [00:02<00:00,  2.23it/s, loss=0.544, acc=0.767]\n",
      "Training: 100%|██████████| 22/22 [00:19<00:00,  1.15it/s, loss=0.507, acc=0.795]\n",
      "Validation: 100%|██████████| 6/6 [00:02<00:00,  2.22it/s, loss=0.553, acc=0.783]\n",
      "Training: 100%|██████████| 22/22 [00:19<00:00,  1.15it/s, loss=0.512, acc=0.768]\n",
      "Validation: 100%|██████████| 6/6 [00:02<00:00,  2.23it/s, loss=0.510, acc=0.817]\n",
      "Training: 100%|██████████| 22/22 [00:19<00:00,  1.14it/s, loss=0.542, acc=0.741]\n",
      "Validation: 100%|██████████| 6/6 [00:02<00:00,  2.23it/s, loss=0.499, acc=0.817]\n",
      "Training: 100%|██████████| 22/22 [00:19<00:00,  1.14it/s, loss=0.548, acc=0.723]\n",
      "Validation: 100%|██████████| 6/6 [00:02<00:00,  2.21it/s, loss=0.561, acc=0.733]\n",
      "Training: 100%|██████████| 22/22 [00:19<00:00,  1.14it/s, loss=0.557, acc=0.741]\n",
      "Validation: 100%|██████████| 6/6 [00:02<00:00,  2.19it/s, loss=0.572, acc=0.767]\n",
      "Training: 100%|██████████| 22/22 [00:19<00:00,  1.12it/s, loss=0.541, acc=0.750]\n",
      "Validation: 100%|██████████| 6/6 [00:02<00:00,  2.17it/s, loss=0.499, acc=0.800]\n",
      "Training: 100%|██████████| 22/22 [00:19<00:00,  1.14it/s, loss=0.488, acc=0.821]\n",
      "Validation: 100%|██████████| 6/6 [00:02<00:00,  2.23it/s, loss=0.538, acc=0.800]\n",
      "Epochs: 100%|██████████| 50/50 [18:25<00:00, 22.11s/it, loss=0.016, acc=0.784]\n"
     ]
    }
   ],
   "source": [
    "#Training loop\n",
    "best_acc = 0.0\n",
    "best_loss = 10000.0  # Large arbitrary number\n",
    "\n",
    "training_loss_list = []\n",
    "validation_loss_list = []\n",
    "training_acc_list = []\n",
    "validation_acc_list = []\n",
    "print(\"Training started:\")\n",
    "\n",
    "epoch_bar = tqdm(range(num_epochs), total=num_epochs, desc=\"Epochs\", position=0, leave=True)\n",
    "\n",
    "for epoch in epoch_bar:\n",
    "\n",
    "    model_hybrid.train()\n",
    "\n",
    "    running_loss = 0.0\n",
    "    running_corrects = 0\n",
    "\n",
    "    # Iterate over data.\n",
    "    it = 0\n",
    "    training_bar = tqdm(training_dataloader, total=len(training_dataloader), desc=\"Training\", position=0, leave=True)\n",
    "\n",
    "    for inputs, labels in training_bar:\n",
    "        batch_size_ = len(inputs)\n",
    "        inputs = inputs.to(device)\n",
    "        labels = labels.to(device)\n",
    "        optimizer_hybrid.zero_grad()\n",
    "\n",
    "        # Track/compute gradient and make an optimization step only when training\n",
    "        with torch.set_grad_enabled(True):\n",
    "            outputs = model_hybrid(inputs)\n",
    "            _, preds = torch.max(outputs, 1)\n",
    "            loss = criterion(outputs, labels)\n",
    "            \n",
    "            \n",
    "            loss.backward()\n",
    "            optimizer_hybrid.step()\n",
    "\n",
    "        # Print iteration results\n",
    "        running_loss += loss.item()\n",
    "        batch_corrects = torch.sum(preds == torch.max(labels, 1)[1]).item()\n",
    "        running_corrects += batch_corrects\n",
    "\n",
    "        training_bar.set_postfix({\"loss\": f\"{loss:.3f}\", \"acc\": f\"{batch_corrects/batch_size_:.3f}\"})\n",
    "\n",
    "\n",
    "    # Print epoch results\n",
    "    epoch_loss = running_loss / len(validation_dataloader.dataset)\n",
    "    epoch_acc = running_corrects / len(training_dataloader.dataset)\n",
    "\n",
    "    epoch_bar.set_postfix({\"loss\": f\"{epoch_loss:.3f}\", \"acc\": f\"{epoch_acc:.3f}\"})\n",
    "\n",
    "    summary_writer.add_scalar(\"Training/Loss\", epoch_loss, epoch)\n",
    "    summary_writer.add_scalar(\"Training/Acurracy\", epoch_acc, epoch)\n",
    "\n",
    "    training_loss_list.append(epoch_loss)\n",
    "    training_acc_list.append(epoch_acc)\n",
    "\n",
    "    exp_lr_scheduler.step()\n",
    "\n",
    "    ## VALIDATION PHASE\n",
    "    validation_bar = tqdm(validation_dataloader, total=len(validation_dataloader), desc=\"Validation\", position=0, leave=True)\n",
    "    model_hybrid.eval()\n",
    "\n",
    "    running_loss = 0.0\n",
    "    running_corrects = 0\n",
    "\n",
    "\n",
    "    for inputs, labels in validation_bar:\n",
    "        batch_size_ = len(inputs)\n",
    "        inputs = inputs.to(device)\n",
    "        labels = labels.to(device)\n",
    "        optimizer_hybrid.zero_grad()\n",
    "\n",
    "        # Track/compute gradient and make an optimization step only when training\n",
    "        with torch.set_grad_enabled(False):\n",
    "            outputs = model_hybrid(inputs)\n",
    "            _, preds = torch.max(outputs, 1)\n",
    "            loss = criterion(outputs, labels)\n",
    "\n",
    "        # Print iteration results\n",
    "        running_loss += loss.item()\n",
    "        batch_corrects = torch.sum(preds == torch.max(labels, 1)[1]).item()\n",
    "        running_corrects += batch_corrects\n",
    "\n",
    "        validation_bar.set_postfix({\"loss\": f\"{loss:.3f}\", \"acc\": f\"{batch_corrects/batch_size_:.3f}\"})\n",
    "        it += 1\n",
    "\n",
    "    validation_loss = running_loss / len(validation_dataloader.dataset)\n",
    "    validation_acc = running_corrects / len(validation_dataloader.dataset)\n",
    "\n",
    "    summary_writer.add_scalar(\"Validation/Loss\", validation_loss, epoch)\n",
    "    summary_writer.add_scalar(\"Validation/Acurracy\", validation_acc, epoch)\n",
    "\n",
    "    validation_loss_list.append(validation_loss)\n",
    "    validation_acc_list.append(validation_acc)\n",
    "\n"
   ]
  },
  {
   "attachments": {},
   "cell_type": "markdown",
   "metadata": {},
   "source": [
    "## Display loss and accuracy results"
   ]
  },
  {
   "cell_type": "code",
   "execution_count": 61,
   "metadata": {},
   "outputs": [
    {
     "data": {
      "image/png": "[encoded data removed]",
      "text/plain": [
       "<Figure size 1000x500 with 2 Axes>"
      ]
     },
     "metadata": {},
     "output_type": "display_data"
    }
   ],
   "source": [
    "fig, ax1 = plt.subplots(1,2)\n",
    "\n",
    "# Plot Training and Validation Loss\n",
    "ax1[0].plot(training_loss_list, label='Training loss')\n",
    "ax1[0].plot(validation_loss_list, label='Validation loss')\n",
    "ax1[0].legend()\n",
    "ax1[0].set_ylabel('Loss')\n",
    "ax1[0].set_xlabel('Epoch')\n",
    "\n",
    "# Plot Training and Validation Accuracy\n",
    "ax1[1].plot(training_acc_list, label='Training accuracy')\n",
    "ax1[1].plot(validation_acc_list, label='Validation accuracy')\n",
    "ax1[1].legend()\n",
    "ax1[1].set_ylabel('Accuracy')\n",
    "ax1[1].set_xlabel('Epoch')\n",
    "\n",
    "\n",
    "fig.suptitle('Training results')\n",
    "fig.set_size_inches(10, 5)"
   ]
  }
 ],
 "metadata": {
  "kernelspec": {
   "display_name": "wp6-qnlp-G79kAyvs-py3.10",
   "language": "python",
   "name": "python3"
  },
  "language_info": {
   "codemirror_mode": {
    "name": "ipython",
    "version": 3
   },
   "file_extension": ".py",
   "mimetype": "text/x-python",
   "name": "python",
   "nbconvert_exporter": "python",
   "pygments_lexer": "ipython3",
   "version": "3.10.12"
  },
  "orig_nbformat": 4
 },
 "nbformat": 4,
 "nbformat_minor": 2
}
