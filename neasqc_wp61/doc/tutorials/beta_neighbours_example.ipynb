{
 "cells": [
  {
   "cell_type": "markdown",
   "metadata": {},
   "source": [
    "# Beta neighbours model"
   ]
  },
  {
   "cell_type": "markdown",
   "metadata": {},
   "source": [
    "In this tutorial we will explain how our beta model works. To do so, we will follow the [beta pipeline](https://github.com/NEASQC/WP6_QNLP/blob/dev/neasqc_wp61/data/data_processing/use_beta_neighbors.py), and we will re-write the classes appearing in [beta folder](https://github.com/NEASQC/WP6_QNLP/tree/dev/neasqc_wp61/models/quantum/beta) so that it can be understood what the model is doing. "
   ]
  },
  {
   "cell_type": "markdown",
   "metadata": {},
   "source": [
    "What we have called beta model consists on a quantum implementation of the [1-nearest neighbour classifier](https://en.wikipedia.org/wiki/K-nearest_neighbors_algorithm). Each sentence will have a vector assigned, which will be the probabilities of the post-selected qubits of a trained pre-alpha-lambeq circuit. Therefore, if we have a quantum circuit with two post selected qubits, this will be a 4-dimensional vector in the beta model, containing the probabilities of the states 00, 01, 10, 11 of the two post-selected qubits. "
   ]
  },
  {
   "cell_type": "code",
   "execution_count": 25,
   "metadata": {},
   "outputs": [],
   "source": [
    "import sys\n",
    "import numpy as np \n",
    "import json\n",
    "import qiskit \n",
    "from qiskit_aer import AerSimulator\n",
    "import cmath\n",
    "sys.path.append(\"./../../models/quantum/beta/\")\n",
    "sys.path.append(\"./../../data/data_processing/\")\n",
    "from QuantumKNearestNeighbours import QuantumKNearestNeighbours as qkn\n",
    "from save_json_output import save_json_output\n",
    "from collections import Counter"
   ]
  },
  {
   "cell_type": "markdown",
   "metadata": {},
   "source": [
    "Therefore, the first thing that need to be done is loading the results of a previous pre-alpha-lambeq experiment. We will load the random seed which was used for the pre alpha lambeq experiment, the number of runs of the algorithm performed and the training and testing dataset used. "
   ]
  },
  {
   "cell_type": "code",
   "execution_count": 26,
   "metadata": {},
   "outputs": [],
   "source": [
    "input_path = \"./../../benchmarking/results/raw/pre_alpha_lambeq_20230727-190241.json\"\n",
    "f = open(input_path)\n",
    "results_pre_alpha = json.load(f)\n",
    "seed = results_pre_alpha['input_args']['seed']\n",
    "runs = results_pre_alpha['input_args']['runs']\n",
    "train_labels_dir = './../../data/datasets/toy_dataset_train.tsv'\n",
    "test_labels_dir = './../../data/datasets/toy_dataset_test.tsv'\n",
    "train_labels = qkn.load_labels(train_labels_dir)\n",
    "test_labels = qkn.load_labels(test_labels_dir)\n"
   ]
  },
  {
   "cell_type": "markdown",
   "metadata": {},
   "source": [
    "As an example, we will use as vectors the first run of our input. We will also set a value k for the number of neighbours we will want to evaluate to assign a prediction. It is recommended to use an odd number in order to avoid ties when selecting the most common label among the neighbors. "
   ]
  },
  {
   "cell_type": "code",
   "execution_count": 27,
   "metadata": {},
   "outputs": [],
   "source": [
    "train_vectors = results_pre_alpha['vectors_train'][1]\n",
    "test_vectors = results_pre_alpha['vectors_test'][1]\n",
    "ntrain = len(train_vectors)\n",
    "ntest = len(test_vectors)\n",
    "k = 5\n",
    "\n"
   ]
  },
  {
   "cell_type": "markdown",
   "metadata": {},
   "source": [
    "The quantum part of our algorithm will come when measuring the distances between the vectors. To compute this quantum distance, we have implemented the ***QuantumDistance*** class. What this class does is to perform a [SWAP test](https://en.wikipedia.org/wiki/Swap_test#:~:text=The%20swap%20test%20is%20a,Watrous%2C%20and%20Ronald%20de%20Wolf.) in order to compute the distance between two vectors. More details can be found in the comments of the class below. "
   ]
  },
  {
   "cell_type": "code",
   "execution_count": 28,
   "metadata": {},
   "outputs": [],
   "source": [
    "class QuantumDistance:\n",
    "    \"\"\"\n",
    "    Class for implementing a simplistic version of quantum distance\n",
    "    \"\"\"\n",
    "    def __init__(self, x1 : np.array, x2 : np.array) -> None:\n",
    "        \"\"\"\n",
    "        Initialiser of the class\n",
    "\n",
    "        Parameters\n",
    "        ----------\n",
    "        x1 : np.array\n",
    "            First vector\n",
    "        x2 : np.array\n",
    "            Second vector\n",
    "        \"\"\"\n",
    "        self.x1norm = self.normalise_vectors(x1)\n",
    "        self.x2norm = self.normalise_vectors(x2)\n",
    "        self.circuit = self.build_circuit(\n",
    "            self.x1norm, self.x2norm)\n",
    "        self.counts = self.get_results_qc_shots(self.circuit)\n",
    "        self.dist = self.euclidean_probability_relation(self.counts)\n",
    "        self.real_dist = self.euclidean_distance(\n",
    "            self.x1norm, self.x2norm)\n",
    "\n",
    "    def normalise_vectors(\n",
    "        self, x : np.array) -> np.array:\n",
    "        \"\"\"\n",
    "        Normalises a vector [x1, x2] so that (x1**2 + x2**2) =1 \n",
    "\n",
    "        Parameters \n",
    "        ----------\n",
    "        x : np.array\n",
    "            Vector we want to normalise\n",
    "        \n",
    "        Returns\n",
    "        -------\n",
    "        x_norm : np.array\n",
    "            Normalised vector\n",
    "        \"\"\"\n",
    "        x_norm = np.array([])\n",
    "        Z = np.sum([x[j]**2 for j in range(len(x))])\n",
    "        # Normalisation constant\n",
    "        for i in range(len(x)):\n",
    "            x_norm = np.append(\n",
    "                x_norm, x[i]/np.sqrt(Z))\n",
    "        return x_norm\n",
    "    \n",
    "    def euclidean_distance(\n",
    "        self, x1 : np.array, x2 : np.array\n",
    "    ) -> float:\n",
    "        \"\"\"\n",
    "        Computes the real euclidean distance between two vectors\n",
    "\n",
    "        Parameters\n",
    "        ----------\n",
    "        x1 : np.array\n",
    "            First vector\n",
    "        x2 : np.array\n",
    "            Second vector\n",
    "        \n",
    "        Returns\n",
    "        -------\n",
    "        euclidean_distance : float\n",
    "            The real euclidean distance\n",
    "        \"\"\"\n",
    "        euclidean_distance = np.sqrt(\n",
    "            np.sum((x1[i]-x2[i])**2 for i in range(len(x1))))\n",
    "        return euclidean_distance\n",
    "    \n",
    "    def build_circuit(\n",
    "        self, x1 : np.array, x2 : np.array\n",
    "    ) -> qiskit.QuantumCircuit:\n",
    "        \"\"\"\n",
    "        Builds the circuit with the encoding of the two vectors and the SWAP\n",
    "        test\n",
    "\n",
    "        Parameters\n",
    "        ----------\n",
    "        x1 : np.array\n",
    "            First vector\n",
    "        x2 : np.array\n",
    "            Second vector\n",
    "\n",
    "        Returns\n",
    "        -------\n",
    "        qc : qiskit.QuantumCircuit\n",
    "            The circuit implementing the SWAP test    \n",
    "        \"\"\"\n",
    "        theta1 = 2*np.arcsin(x1[1])\n",
    "        theta2 = 2*np.arcsin(x2[1])\n",
    "\n",
    "        qc = qiskit.QuantumCircuit(3,1)\n",
    "        qc.ry(theta1, 1)\n",
    "        qc.ry(theta2, 2)\n",
    "        qc.barrier()\n",
    "        qc.h(0)\n",
    "        qc.cswap(0,1,2)\n",
    "        qc.h(0)\n",
    "        qc.measure(0,0)\n",
    "        return qc\n",
    "    \n",
    "    def get_results_qc_shots(\n",
    "        self, qc : qiskit.QuantumCircuit, shots = 2**10,\n",
    "        backend = AerSimulator()\n",
    "    ) -> dict:\n",
    "        \"\"\"\n",
    "        Gets the results of running the circuit in dictionary format\n",
    "\n",
    "        Parameters\n",
    "        ----------\n",
    "        qc : qiskit.QuantumCircuit\n",
    "            The circuit we want to analyse\n",
    "        shots : int, default : 2**10\n",
    "            The number of shots to perform\n",
    "        backend : callable, default : AerSimulator\n",
    "            The quantum backend where circuits are run\n",
    "        \n",
    "        Returns\n",
    "        -------\n",
    "        counts : dict\n",
    "            Dictionary containing the number of times each\n",
    "            state appears\n",
    "        \"\"\"\n",
    "        qc_compiled = qiskit.transpile(qc, backend)\n",
    "        job = backend.run(qc_compiled, shots = shots)\n",
    "        results = job.result()\n",
    "        counts = results.get_counts(qc_compiled)\n",
    "        return counts\n",
    "    \n",
    "    def euclidean_probability_relation(\n",
    "        self, counts\n",
    "    ) -> float:\n",
    "        \"\"\"\n",
    "        For normalised vectors in the SWAP test, \n",
    "        computes the relation of the probability between \n",
    "        obtaining a 0 in the control qubit and the euclidean\n",
    "        distance.\n",
    "\n",
    "        Parameters\n",
    "        ----------\n",
    "        counts : dict\n",
    "            Dictionary with the quantum states as keys \n",
    "            and the number of times they were obtained as values\n",
    "        \n",
    "        Returns\n",
    "        -------\n",
    "        dist : float \n",
    "            Euclidean distance computed from SWAP test\n",
    "        \"\"\"\n",
    "        if '1' in counts.keys():\n",
    "            p0 = counts['0']/ (counts['0'] + counts['1'])\n",
    "        else : \n",
    "            p0 = 1\n",
    "    \n",
    "        dist = np.sqrt(2 - 2 * abs(cmath.sqrt(2 * p0 -1)))\n",
    "        return dist\n",
    "    \n",
    "    \n",
    "\n",
    "\n"
   ]
  },
  {
   "cell_type": "markdown",
   "metadata": {},
   "source": [
    "Once a method for computing the quantum distances has been defined, we will implement the model. First of all, for each test vector we will compute the quantum distance to all the training vectors. "
   ]
  },
  {
   "cell_type": "code",
   "execution_count": 29,
   "metadata": {},
   "outputs": [
    {
     "name": "stderr",
     "output_type": "stream",
     "text": [
      "/var/folders/l9/tp9x7bt95zn0g_5b2045d2l40000gq/T/ipykernel_5064/1941711218.py:67: DeprecationWarning: Calling np.sum(generator) is deprecated, and in the future will give a different result. Use np.sum(np.fromiter(generator)) or the python sum builtin instead.\n",
      "  np.sum((x1[i]-x2[i])**2 for i in range(len(x1))))\n"
     ]
    }
   ],
   "source": [
    "distances_list = [] \n",
    "for i, test_sample in enumerate(test_vectors):\n",
    "    distances = []\n",
    "    for train_sample in (train_vectors):\n",
    "        distances.append(QuantumDistance(test_sample, train_sample).dist)\n",
    "    distances_list.append(distances)\n"
   ]
  },
  {
   "cell_type": "markdown",
   "metadata": {},
   "source": [
    "After that, we will compute the indexes of the k-closest vectors to each test vector. "
   ]
  },
  {
   "cell_type": "code",
   "execution_count": 30,
   "metadata": {},
   "outputs": [],
   "source": [
    "closest_indexes_list = []\n",
    "for i in range(ntest):\n",
    "    closest_indexes = sorted(\n",
    "        range(len(distances_list[i])), key = lambda j : distances_list[i][j])[:k]\n",
    "    closest_indexes_list.append(closest_indexes)"
   ]
  },
  {
   "cell_type": "markdown",
   "metadata": {},
   "source": [
    "Then, we will do majority vote among the k-closest vectors to decide which label is assigned to each test vector."
   ]
  },
  {
   "cell_type": "code",
   "execution_count": 31,
   "metadata": {},
   "outputs": [],
   "source": [
    "predictions = []\n",
    "for i in range(ntest):\n",
    "    closest_labels = [] \n",
    "    for j in closest_indexes_list[i]:\n",
    "        closest_labels.append(train_labels[j])\n",
    "    c = Counter(closest_labels)\n",
    "    label, count = c.most_common()[0]\n",
    "    predictions.append(label)"
   ]
  },
  {
   "cell_type": "markdown",
   "metadata": {},
   "source": [
    "Finally, we can compute the accuracy obtained in this case. "
   ]
  },
  {
   "cell_type": "code",
   "execution_count": 32,
   "metadata": {},
   "outputs": [
    {
     "name": "stdout",
     "output_type": "stream",
     "text": [
      "The accuracy is equal to : 0.45\n"
     ]
    }
   ],
   "source": [
    "correct_pred = 0\n",
    "for i,pred in enumerate(predictions):\n",
    "    if pred == test_labels[i]:\n",
    "        correct_pred += 1 \n",
    "print('The accuracy is equal to :', correct_pred/ntest)"
   ]
  }
 ],
 "metadata": {
  "kernelspec": {
   "display_name": "Python 3",
   "language": "python",
   "name": "python3"
  },
  "language_info": {
   "codemirror_mode": {
    "name": "ipython",
    "version": 3
   },
   "file_extension": ".py",
   "mimetype": "text/x-python",
   "name": "python",
   "nbconvert_exporter": "python",
   "pygments_lexer": "ipython3",
   "version": "3.10.11"
  },
  "orig_nbformat": 4
 },
 "nbformat": 4,
 "nbformat_minor": 2
}
