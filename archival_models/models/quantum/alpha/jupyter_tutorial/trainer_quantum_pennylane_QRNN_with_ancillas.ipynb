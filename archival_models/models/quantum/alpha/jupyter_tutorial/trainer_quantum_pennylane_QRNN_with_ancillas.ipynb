{
 "cells": [
  {
   "attachments": {},
   "cell_type": "markdown",
   "metadata": {},
   "source": [
    "# Test implementation QRNN"
   ]
  },
  {
   "cell_type": "markdown",
   "metadata": {},
   "source": [
    "Notebook based on this paper:\n",
    "\n",
    "Quantum Recurrent Neural Networks for Sequential Learning ==> https://arxiv.org/pdf/2302.03244.pdf"
   ]
  },
  {
   "cell_type": "markdown",
   "metadata": {},
   "source": [
    "In this implementation:\n",
    "- We are using ancilla qubits to 'reinitialize' some qubits to 0\n",
    "- We use Word2Vec to encode words to vector of size 25\n",
    "- We also use a Linear Layer before our QRNN going from 25 to n_qubits_D"
   ]
  },
  {
   "cell_type": "code",
   "execution_count": 11,
   "metadata": {},
   "outputs": [],
   "source": [
    "import pandas as pd\n",
    "from sklearn.preprocessing import OneHotEncoder\n",
    "from tqdm import tqdm\n",
    "from sklearn.model_selection import train_test_split\n",
    "\n",
    "# PyTorch\n",
    "import torch\n",
    "import torch.nn as nn\n",
    "import torch.optim as optim\n",
    "from torch.optim import lr_scheduler\n",
    "from torch.utils.data import Dataset, DataLoader\n",
    "\n",
    "# Pennylane\n",
    "import pennylane as qml\n",
    "from pennylane import numpy as np\n",
    "\n",
    "\n",
    "# Plotting\n",
    "import matplotlib.pyplot as plt"
   ]
  },
  {
   "cell_type": "code",
   "execution_count": 12,
   "metadata": {},
   "outputs": [],
   "source": [
    "def seed_everything(seed: int):\n",
    "    import random, os\n",
    "    import numpy as np\n",
    "    import torch\n",
    "    \n",
    "    random.seed(seed)\n",
    "    os.environ['PYTHONHASHSEED'] = str(seed)\n",
    "    np.random.seed(seed)\n",
    "    torch.manual_seed(seed)\n",
    "    torch.cuda.manual_seed(seed)\n",
    "    torch.backends.cudnn.deterministic = True\n",
    "    torch.backends.cudnn.benchmark = True\n",
    "    torch.mps.manual_seed(seed)"
   ]
  },
  {
   "cell_type": "code",
   "execution_count": 13,
   "metadata": {},
   "outputs": [],
   "source": [
    "seed_everything(0)"
   ]
  },
  {
   "attachments": {},
   "cell_type": "markdown",
   "metadata": {},
   "source": [
    "## Dataset loading"
   ]
  },
  {
   "cell_type": "markdown",
   "metadata": {},
   "source": [
    "The dataset comes from the lambeq github. \n",
    "\n",
    "https://github.com/CQCL/lambeq/tree/main/docs/examples/datasets\n",
    "\n",
    "'The goal is to classify simple sentences (such as “skillful programmer creates software” and “chef prepares delicious meal”) into two categories, food or IT. The dataset consists of 130 sentences created using a simple context-free grammar.'"
   ]
  },
  {
   "cell_type": "code",
   "execution_count": 14,
   "metadata": {},
   "outputs": [],
   "source": [
    "def read_data(filename):\n",
    "    labels, sentences = [], []\n",
    "    with open(filename) as f:\n",
    "        for line in f:\n",
    "            t = float(line[0])\n",
    "            labels.append([t, 1-t])\n",
    "            sentences.append(line[1:].strip())\n",
    "    return labels, sentences\n",
    "\n",
    "\n",
    "train_labels, train_data = read_data('../../../../../../../../Downloads/quantum_data/mc_train_data.txt')\n",
    "dev_labels, dev_data = read_data('../../../../../../../../Downloads/quantum_data/mc_dev_data.txt')\n",
    "test_labels, test_data = read_data('../../../../../../../../Downloads/quantum_data/mc_test_data.txt')"
   ]
  },
  {
   "cell_type": "code",
   "execution_count": 15,
   "metadata": {},
   "outputs": [],
   "source": [
    "# From one-hot to integer\n",
    "train_labels = np.argmax(train_labels, 1)\n",
    "dev_labels = np.argmax(dev_labels, 1)\n",
    "test_labels = np.argmax(test_labels, 1)"
   ]
  },
  {
   "attachments": {},
   "cell_type": "markdown",
   "metadata": {},
   "source": [
    "## Word2vec"
   ]
  },
  {
   "cell_type": "code",
   "execution_count": 16,
   "metadata": {},
   "outputs": [],
   "source": [
    "import gensim.downloader\n",
    "\n",
    "# Load the model from gensim-data\n",
    "glove_model = gensim.downloader.load('glove-twitter-25')\n"
   ]
  },
  {
   "cell_type": "code",
   "execution_count": 17,
   "metadata": {},
   "outputs": [],
   "source": [
    "#Get the word embeddings for each word in the sentence\n",
    "def get_word_embeddings(sentence, seq_length):\n",
    "    embeddings = []\n",
    "    for word in sentence.split():\n",
    "        try:\n",
    "            embeddings.append(glove_model[word])\n",
    "        except:\n",
    "            pass\n",
    "\n",
    "    #Pad the array with zeros if the sentence is shorter than the max length\n",
    "    if len(embeddings) < seq_length:\n",
    "        embeddings.extend(np.zeros((seq_length-len(embeddings), 25)))\n",
    "    return np.array(embeddings)"
   ]
  },
  {
   "cell_type": "code",
   "execution_count": 18,
   "metadata": {},
   "outputs": [],
   "source": [
    "def preprocess_dataset(data, seq_length):\n",
    "    new_data = []\n",
    "    for sentence in data:\n",
    "        new_data.append(get_word_embeddings(sentence, seq_length))\n",
    "    return np.array(new_data)"
   ]
  },
  {
   "cell_type": "code",
   "execution_count": 19,
   "metadata": {},
   "outputs": [],
   "source": [
    "# Function to find the maximum length of each sentence in the dataset\n",
    "def find_max_length(data):\n",
    "    max_length = 0\n",
    "    for sentence in data:\n",
    "        if len(sentence.split()) > max_length:\n",
    "            max_length = len(sentence.split())\n",
    "    return max_length"
   ]
  },
  {
   "cell_type": "code",
   "execution_count": 20,
   "metadata": {},
   "outputs": [],
   "source": [
    "# Compute the max length of the sentences\n",
    "# This will allow us to pad the sentences to the same length\n",
    "# + to know the number of qubits we need\n",
    "seq_length = np.max([find_max_length(train_data), find_max_length(dev_data), find_max_length(test_data)])"
   ]
  },
  {
   "cell_type": "code",
   "execution_count": 21,
   "metadata": {},
   "outputs": [],
   "source": [
    "X_train = preprocess_dataset(train_data, seq_length)\n",
    "X_dev = preprocess_dataset(dev_data, seq_length)\n",
    "X_test = preprocess_dataset(test_data, seq_length)"
   ]
  },
  {
   "cell_type": "code",
   "execution_count": 22,
   "metadata": {},
   "outputs": [],
   "source": [
    "class EmbeddingDataset(Dataset):\n",
    "    \"\"\"Embedding dataset.\"\"\"\n",
    "\n",
    "    def __init__(self, X, Y):\n",
    "        self.X = X\n",
    "        self.Y = Y\n",
    "\n",
    "\n",
    "    def __len__(self):\n",
    "        return len(self.X)\n",
    "\n",
    "    def __getitem__(self, idx):\n",
    "        if torch.is_tensor(idx):\n",
    "            idx = idx.tolist()\n",
    "\n",
    "        return torch.tensor(self.X[idx]).to(torch.float32) , torch.tensor(self.Y[idx]).to(torch.float32)"
   ]
  },
  {
   "attachments": {},
   "cell_type": "markdown",
   "metadata": {},
   "source": [
    "## Setting of the main hyper-parameters of the model"
   ]
  },
  {
   "attachments": {},
   "cell_type": "markdown",
   "metadata": {},
   "source": [
    "### To implement this circuit, we need ancilla qubits. \n",
    "For the Reg_D part we need X*max_sentence_len qubits and for the Reg_H part we need X qubits.\n",
    "\n",
    "\n",
    "Here we have X = 3 and max_sentence_len = 5\n",
    "\n",
    "\n",
    "Thus n_qubits = 3*5 + 3 = 18"
   ]
  },
  {
   "cell_type": "code",
   "execution_count": 23,
   "metadata": {},
   "outputs": [],
   "source": [
    "n_qubits_D = 3                # Number of qubits for the Reg_D\n",
    "n_qubits_H = 3                # Number of qubits for the Reg_H\n",
    "# In the paper n_qubits_D = n_qubits_H = 3\n",
    "\n",
    "n_qubits = seq_length*n_qubits_D + n_qubits_H   # Number of qubits"
   ]
  },
  {
   "cell_type": "code",
   "execution_count": 24,
   "metadata": {},
   "outputs": [],
   "source": [
    "BATCH_SIZE = 1024\n",
    "EPOCHS = 50\n",
    "LR = 2e-1\n",
    "GAMMA_LR = 0.5    # Learning rate reduction applied every STEP_LR epochs.\n",
    "STEP_LR = 20\n",
    "WEIGHT_DECAY = 0"
   ]
  },
  {
   "cell_type": "code",
   "execution_count": 25,
   "metadata": {},
   "outputs": [],
   "source": [
    "dev = qml.device(\"default.qubit\", wires=n_qubits)"
   ]
  },
  {
   "cell_type": "code",
   "execution_count": 26,
   "metadata": {},
   "outputs": [
    {
     "name": "stdout",
     "output_type": "stream",
     "text": [
      "Device used: cpu\n"
     ]
    }
   ],
   "source": [
    "device = torch.device(\"cuda:0\" if torch.cuda.is_available() else \"cpu\")\n",
    "\n",
    "#Pennylane doesnt seem to support Mac Apple Silicon yet\n",
    "#device = torch.device(\"mps\" if torch.backends.mps.is_available() else \"cpu\")\n",
    "\n",
    "print('Device used:', device)\n"
   ]
  },
  {
   "attachments": {},
   "cell_type": "markdown",
   "metadata": {},
   "source": [
    "## Variational quantum circuit\n"
   ]
  },
  {
   "cell_type": "code",
   "execution_count": 27,
   "metadata": {},
   "outputs": [],
   "source": [
    "def RZZ_block(wires, weight):\n",
    "    qml.CNOT(wires=[wires[0], wires[1]])\n",
    "    qml.RZ(weight, wires=wires[1])\n",
    "    qml.CNOT(wires=[wires[0], wires[1]])"
   ]
  },
  {
   "cell_type": "code",
   "execution_count": 28,
   "metadata": {},
   "outputs": [],
   "source": [
    "def regD(x_t, weights):\n",
    "    # Here we can modify only the first n_qubits_D wires\n",
    "\n",
    "    # Embed features in the quantum node\n",
    "    for idx, element in enumerate(x_t):\n",
    "        qml.RY(element, wires=idx)\n",
    "\n",
    "    ## First part of the circuit\n",
    "    for idx, element in enumerate(weights[0]):\n",
    "        qml.RX(element, wires=idx)\n",
    "\n",
    "    for idx, element in enumerate(weights[1]):\n",
    "        qml.RZ(element, wires=idx)\n",
    "\n",
    "    for idx, element in enumerate(weights[2]):\n",
    "        qml.RX(element, wires=idx)\n"
   ]
  },
  {
   "cell_type": "code",
   "execution_count": 29,
   "metadata": {},
   "outputs": [],
   "source": [
    "def regH(weights):\n",
    "    # Here we can modify only the wires from n_qubits_D to n_qubits_D + n_qubits_H\n",
    "\n",
    "    ## First part of the circuit\n",
    "    for idx, element in enumerate(weights[0]):\n",
    "        qml.RX(element, wires=n_qubits_D+idx)\n",
    "\n",
    "    for idx, element in enumerate(weights[1]):\n",
    "        qml.RZ(element, wires=n_qubits_D+idx)\n",
    "\n",
    "    for idx, element in enumerate(weights[2]):\n",
    "        qml.RX(element, wires=n_qubits_D+idx)\n"
   ]
  },
  {
   "cell_type": "code",
   "execution_count": 30,
   "metadata": {},
   "outputs": [],
   "source": [
    "@qml.qnode(dev, interface=\"torch\")\n",
    "def regD_H(inputs, weights_start_D, weights_start_H, weights_entangle):\n",
    "    inputs = inputs.reshape((seq_length, n_qubits_D))\n",
    "\n",
    "    for index, x_t in enumerate(inputs):\n",
    "        # Here word is a 1 dimensional vector, (X/2)\n",
    "        regD(x_t, weights_start_D)\n",
    "    \n",
    "        regH(weights_start_H)\n",
    "\n",
    "    \n",
    "        # Entanglement\n",
    "        for idx, element in enumerate(weights_entangle[:-1]):\n",
    "            RZZ_block([idx, idx + 1], element)\n",
    "\n",
    "        # Entanglement between the last Reg_H and the first Reg_D qubit\n",
    "        RZZ_block([n_qubits_D + n_qubits_H - 1, 0], weights_entangle[-1])\n",
    "\n",
    "        if index < seq_length - 1:\n",
    "            # SWAP the reg_D qubits with the ancilla qubits\n",
    "            for idx in range(n_qubits_D):\n",
    "                qml.SWAP(wires=[idx, n_qubits_D + n_qubits_H + index*n_qubits_D + idx])\n",
    "\n",
    "\n",
    "    #We measure the 1st qubit\n",
    "    exp_vals_Y = qml.expval(qml.PauliY(0))\n",
    "\n",
    "    return exp_vals_Y"
   ]
  },
  {
   "cell_type": "code",
   "execution_count": 31,
   "metadata": {},
   "outputs": [],
   "source": [
    "class DressedQuantumNet(nn.Module):\n",
    "    \"\"\"\n",
    "    Torch module implementing the *dressed* quantum net.\n",
    "    \"\"\"\n",
    "\n",
    "    def __init__(self):\n",
    "        \"\"\"\n",
    "        Definition of the *dressed* layout.\n",
    "        \"\"\"\n",
    "\n",
    "        super().__init__()\n",
    "        self.pre_net = nn.Linear(25, n_qubits_D)\n",
    "        self.q_params_start_D = nn.Parameter(torch.randn((3, n_qubits_D)), requires_grad=True)\n",
    "        self.q_params_start_H = nn.Parameter(torch.randn((3, n_qubits_H)), requires_grad=True)\n",
    "\n",
    "        self.q_params_entangle = nn.Parameter(torch.randn((n_qubits_D+n_qubits_H, 1)), requires_grad=True)\n",
    "        self.sigmoid = nn.Sigmoid()\n",
    "\n",
    "        self.q_layer = qml.qnn.TorchLayer(regD_H, {\"weights_start_D\": (3, n_qubits_D),\n",
    "                                                    \"weights_start_H\": (3, n_qubits_H),\n",
    "                                                    \"weights_entangle\": (n_qubits_D+n_qubits_H, 1)})\n",
    "\n",
    "    def forward(self, input_features):\n",
    "        \"\"\"\n",
    "        Defining how tensors are supposed to move through the *dressed* quantum\n",
    "        net.\n",
    "        \"\"\"\n",
    "\n",
    "        # obtain the input features for the quantum circuit\n",
    "        # by reducing the feature dimension from 512 to 3\n",
    "        pre_out = self.pre_net(input_features)\n",
    "        q_in = torch.sigmoid(pre_out) * np.pi\n",
    "\n",
    "\n",
    "        \n",
    "        q_out = torch.Tensor(0, 1)\n",
    "        q_out = q_out.to(device)\n",
    "        for sentence in q_in:\n",
    "            #Here sentence is a 2 dimensional vector, (seq_length, X/2) with X --> Number of qubits for Reg_D\n",
    "            #for word in sentence:\n",
    "                #y_hat = torch.tensor([regD_H(word, self.q_params_start, self.q_params_entangle)])\n",
    "            y_hat = regD_H(sentence, self.q_params_start_D, self.q_params_start_H, self.q_params_entangle)\n",
    "\n",
    "            #After the execution of the QC, all the qubits are reset to the |0> state\n",
    "\n",
    "\n",
    "            #We only keep the last measured y_hat\n",
    "            q_out = torch.cat((q_out, y_hat.reshape(1, 1)), dim=0)\n",
    "        \n",
    "\n",
    "        return self.sigmoid(q_out)"
   ]
  },
  {
   "cell_type": "code",
   "execution_count": 32,
   "metadata": {},
   "outputs": [],
   "source": [
    "train_dataset = EmbeddingDataset(X_train, train_labels)\n",
    "training_dataloader = DataLoader(train_dataset, batch_size=BATCH_SIZE, shuffle=True)\n",
    "\n",
    "dev_dataset = EmbeddingDataset(X_dev, dev_labels)\n",
    "dev_dataloader = DataLoader(dev_dataset, batch_size=BATCH_SIZE, shuffle=True)\n",
    "\n",
    "test_dataset = EmbeddingDataset(X_test, test_labels)\n",
    "test_dataloader = DataLoader(test_dataset, batch_size=BATCH_SIZE, shuffle=True)"
   ]
  },
  {
   "cell_type": "code",
   "execution_count": 33,
   "metadata": {},
   "outputs": [],
   "source": [
    "model_hybrid = DressedQuantumNet()\n",
    "\n",
    "# Use CUDA or CPU according to the \"device\" object.\n",
    "model_hybrid = model_hybrid.to(device)"
   ]
  },
  {
   "attachments": {},
   "cell_type": "markdown",
   "metadata": {},
   "source": [
    "## Training and results"
   ]
  },
  {
   "attachments": {},
   "cell_type": "markdown",
   "metadata": {},
   "source": [
    "Here we use a Binary Cross Entropy Loss, an Adam optimizer and a scheduler reducing the learning rate at an exponentially rate. "
   ]
  },
  {
   "cell_type": "code",
   "execution_count": 34,
   "metadata": {},
   "outputs": [],
   "source": [
    "criterion = nn.BCELoss()\n",
    "\n",
    "optimizer_hybrid = optim.Adam(model_hybrid.parameters(), lr=LR, weight_decay=WEIGHT_DECAY)\n",
    "exp_lr_scheduler = lr_scheduler.StepLR(\n",
    "    optimizer_hybrid, step_size=STEP_LR, gamma=GAMMA_LR\n",
    ")\n",
    "\n",
    "#exp_lr_scheduler = lr_scheduler.CosineAnnealingLR(\n",
    "#    optimizer_hybrid, T_max=EPOCHS, eta_min=1e-5)\n",
    "\n"
   ]
  },
  {
   "attachments": {},
   "cell_type": "markdown",
   "metadata": {},
   "source": [
    "We use tensorboard to log the hyperparameters, the loss and the accuracy of the model:"
   ]
  },
  {
   "cell_type": "code",
   "execution_count": 35,
   "metadata": {},
   "outputs": [],
   "source": [
    "from torch.utils.tensorboard import SummaryWriter\n",
    "import datetime\n",
    "\n",
    "log_dir = \"logs/test_QRNN/\" + datetime.datetime.now().strftime(\"%Y%m%d-%H%M%S\")\n",
    "summary_writer = SummaryWriter(log_dir=log_dir)"
   ]
  },
  {
   "cell_type": "code",
   "execution_count": 39,
   "metadata": {},
   "outputs": [
    {
     "name": "stdout",
     "output_type": "stream",
     "text": [
      "Training started:\n"
     ]
    },
    {
     "name": "stderr",
     "output_type": "stream",
     "text": [
      "Training: 100%|██████████| 1/1 [01:00<00:00, 60.70s/it, loss=0.624, acc=0.686]\n",
      "Validation: 100%|██████████| 1/1 [00:03<00:00,  3.04s/it, loss=0.649, acc=0.667]\n",
      "Training: 100%|██████████| 1/1 [01:00<00:00, 60.46s/it, loss=0.618, acc=0.686]\n",
      "Validation: 100%|██████████| 1/1 [00:02<00:00,  2.96s/it, loss=0.646, acc=0.667]\n",
      "Training: 100%|██████████| 1/1 [00:57<00:00, 57.27s/it, loss=0.620, acc=0.686]\n",
      "Validation: 100%|██████████| 1/1 [00:05<00:00,  5.80s/it, loss=0.649, acc=0.667]\n",
      "Training: 100%|██████████| 1/1 [00:54<00:00, 54.41s/it, loss=0.620, acc=0.686]\n",
      "Validation: 100%|██████████| 1/1 [00:06<00:00,  6.07s/it, loss=0.654, acc=0.667]\n",
      "Training: 100%|██████████| 1/1 [00:53<00:00, 53.87s/it, loss=0.619, acc=0.686]\n",
      "Validation: 100%|██████████| 1/1 [00:05<00:00,  5.63s/it, loss=0.662, acc=0.667]\n",
      "Training: 100%|██████████| 1/1 [00:52<00:00, 52.80s/it, loss=0.619, acc=0.686]\n",
      "Validation: 100%|██████████| 1/1 [00:05<00:00,  5.53s/it, loss=0.667, acc=0.667]\n",
      "Training: 100%|██████████| 1/1 [00:53<00:00, 53.36s/it, loss=0.619, acc=0.686]\n",
      "Validation: 100%|██████████| 1/1 [15:46<00:00, 946.18s/it, loss=0.666, acc=0.667]\n",
      "Training: 100%|██████████| 1/1 [2:59:25<00:00, 10765.86s/it, loss=0.618, acc=0.686]\n",
      "Validation: 100%|██████████| 1/1 [15:02<00:00, 902.17s/it, loss=0.664, acc=0.667]]\n",
      "Training: 100%|██████████| 1/1 [2:48:13<00:00, 10093.71s/it, loss=0.618, acc=0.686]]\n",
      "Validation: 100%|██████████| 1/1 [16:26<00:00, 986.24s/it, loss=0.661, acc=0.667]86]\n",
      "Training: 100%|██████████| 1/1 [2:41:15<00:00, 9675.55s/it, loss=0.618, acc=0.686]6]\n",
      "Validation: 100%|██████████| 1/1 [16:58<00:00, 1018.13s/it, loss=0.660, acc=0.667]6]\n",
      "Training: 100%|██████████| 1/1 [46:07<00:00, 2767.87s/it, loss=0.618, acc=0.686].686]\n",
      "Validation: 100%|██████████| 1/1 [00:05<00:00,  5.52s/it, loss=0.659, acc=0.667]0.686]\n",
      "Training: 100%|██████████| 1/1 [00:53<00:00, 53.39s/it, loss=0.618, acc=0.686]c=0.686]\n",
      "Validation: 100%|██████████| 1/1 [00:05<00:00,  5.64s/it, loss=0.659, acc=0.667]0.686]\n",
      "Training: 100%|██████████| 1/1 [00:51<00:00, 51.84s/it, loss=0.617, acc=0.686]c=0.686]\n",
      "Validation: 100%|██████████| 1/1 [00:05<00:00,  5.29s/it, loss=0.660, acc=0.667]0.686]\n",
      "Training: 100%|██████████| 1/1 [00:52<00:00, 52.18s/it, loss=0.616, acc=0.686]c=0.686]\n",
      "Validation: 100%|██████████| 1/1 [00:04<00:00,  4.54s/it, loss=0.660, acc=0.667]0.686]\n",
      "Training: 100%|██████████| 1/1 [00:52<00:00, 52.70s/it, loss=0.614, acc=0.686]c=0.686]\n",
      "Validation: 100%|██████████| 1/1 [00:05<00:00,  5.20s/it, loss=0.659, acc=0.667]0.686]\n",
      "Training: 100%|██████████| 1/1 [00:53<00:00, 53.03s/it, loss=0.608, acc=0.686]c=0.686]\n",
      "Validation: 100%|██████████| 1/1 [00:05<00:00,  5.55s/it, loss=0.657, acc=0.667]0.686]\n",
      "Training: 100%|██████████| 1/1 [00:53<00:00, 53.14s/it, loss=0.601, acc=0.686]=0.686] \n",
      "Validation: 100%|██████████| 1/1 [00:05<00:00,  5.22s/it, loss=0.651, acc=0.667].686]\n",
      "Training: 100%|██████████| 1/1 [00:53<00:00, 53.15s/it, loss=0.595, acc=0.686]0.686] \n",
      "Validation: 100%|██████████| 1/1 [00:04<00:00,  4.61s/it, loss=0.638, acc=0.667]686]\n",
      "Training: 100%|██████████| 1/1 [00:55<00:00, 55.61s/it, loss=0.589, acc=0.686]0.686]\n",
      "Validation: 100%|██████████| 1/1 [00:05<00:00,  5.27s/it, loss=0.629, acc=0.667]686]\n",
      "Training: 100%|██████████| 1/1 [00:53<00:00, 53.59s/it, loss=0.586, acc=0.686]0.686]\n",
      "Validation: 100%|██████████| 1/1 [00:05<00:00,  5.90s/it, loss=0.623, acc=0.667]686]\n",
      "Training: 100%|██████████| 1/1 [00:53<00:00, 53.77s/it, loss=0.583, acc=0.686]0.686]\n",
      "Validation: 100%|██████████| 1/1 [00:05<00:00,  5.56s/it, loss=0.621, acc=0.667]686]\n",
      "Training: 100%|██████████| 1/1 [00:52<00:00, 52.96s/it, loss=0.582, acc=0.686]0.686]\n",
      "Validation: 100%|██████████| 1/1 [00:05<00:00,  5.69s/it, loss=0.620, acc=0.667]686]\n",
      "Training: 100%|██████████| 1/1 [00:53<00:00, 53.25s/it, loss=0.582, acc=0.686]0.686]\n",
      "Validation: 100%|██████████| 1/1 [00:05<00:00,  5.51s/it, loss=0.621, acc=0.667]686]\n",
      "Training: 100%|██████████| 1/1 [00:53<00:00, 53.91s/it, loss=0.582, acc=0.686]0.686]\n",
      "Validation: 100%|██████████| 1/1 [00:05<00:00,  5.97s/it, loss=0.621, acc=0.667]686]\n",
      "Training: 100%|██████████| 1/1 [00:52<00:00, 53.00s/it, loss=0.582, acc=0.686]686]  \n",
      "Validation: 100%|██████████| 1/1 [00:06<00:00,  6.19s/it, loss=0.622, acc=0.667]6]\n",
      "Training: 100%|██████████| 1/1 [00:53<00:00, 53.89s/it, loss=0.580, acc=0.686]86] \n",
      "Validation: 100%|██████████| 1/1 [00:05<00:00,  5.36s/it, loss=0.623, acc=0.667]]\n",
      "Training: 100%|██████████| 1/1 [00:54<00:00, 54.83s/it, loss=0.579, acc=0.686]86]\n",
      "Validation: 100%|██████████| 1/1 [00:05<00:00,  5.36s/it, loss=0.625, acc=0.667]]\n",
      "Training: 100%|██████████| 1/1 [00:53<00:00, 53.27s/it, loss=0.578, acc=0.686]86]\n",
      "Validation: 100%|██████████| 1/1 [00:04<00:00,  4.81s/it, loss=0.627, acc=0.667]]\n",
      "Training: 100%|██████████| 1/1 [00:53<00:00, 53.59s/it, loss=0.578, acc=0.686]86]\n",
      "Validation: 100%|██████████| 1/1 [00:05<00:00,  5.35s/it, loss=0.629, acc=0.667]]\n",
      "Training: 100%|██████████| 1/1 [00:52<00:00, 52.40s/it, loss=0.578, acc=0.686]86]\n",
      "Validation: 100%|██████████| 1/1 [00:05<00:00,  5.26s/it, loss=0.631, acc=0.667]]\n",
      "Training: 100%|██████████| 1/1 [00:52<00:00, 52.17s/it, loss=0.578, acc=0.686]86]\n",
      "Validation: 100%|██████████| 1/1 [00:05<00:00,  5.03s/it, loss=0.632, acc=0.667]]\n",
      "Training: 100%|██████████| 1/1 [00:53<00:00, 53.46s/it, loss=0.577, acc=0.686]86]\n",
      "Validation: 100%|██████████| 1/1 [00:04<00:00,  4.73s/it, loss=0.633, acc=0.667]]\n",
      "Training: 100%|██████████| 1/1 [00:53<00:00, 53.93s/it, loss=0.577, acc=0.686]86]\n",
      "Validation: 100%|██████████| 1/1 [00:05<00:00,  5.13s/it, loss=0.633, acc=0.667]]\n",
      "Training: 100%|██████████| 1/1 [00:52<00:00, 52.70s/it, loss=0.577, acc=0.686]86]\n",
      "Validation: 100%|██████████| 1/1 [00:04<00:00,  4.53s/it, loss=0.633, acc=0.667]]\n",
      "Training: 100%|██████████| 1/1 [00:53<00:00, 53.85s/it, loss=0.576, acc=0.686]86]\n",
      "Validation: 100%|██████████| 1/1 [00:04<00:00,  5.00s/it, loss=0.632, acc=0.667]]\n",
      "Training: 100%|██████████| 1/1 [00:53<00:00, 53.48s/it, loss=0.576, acc=0.686]86]\n",
      "Validation: 100%|██████████| 1/1 [00:04<00:00,  4.75s/it, loss=0.631, acc=0.667]]\n",
      "Training: 100%|██████████| 1/1 [00:53<00:00, 53.64s/it, loss=0.576, acc=0.686]86]\n",
      "Validation: 100%|██████████| 1/1 [00:05<00:00,  5.33s/it, loss=0.630, acc=0.667]]\n",
      "Training: 100%|██████████| 1/1 [00:52<00:00, 52.19s/it, loss=0.576, acc=0.686]86]\n",
      "Validation: 100%|██████████| 1/1 [00:05<00:00,  5.21s/it, loss=0.629, acc=0.667]]\n",
      "Training: 100%|██████████| 1/1 [00:52<00:00, 52.63s/it, loss=0.575, acc=0.686]86]\n",
      "Validation: 100%|██████████| 1/1 [00:05<00:00,  5.27s/it, loss=0.628, acc=0.667]]\n",
      "Training: 100%|██████████| 1/1 [00:53<00:00, 53.68s/it, loss=0.575, acc=0.686]86]\n",
      "Validation: 100%|██████████| 1/1 [00:05<00:00,  5.56s/it, loss=0.627, acc=0.667]]\n",
      "Training: 100%|██████████| 1/1 [00:52<00:00, 52.96s/it, loss=0.575, acc=0.686]86]\n",
      "Validation: 100%|██████████| 1/1 [00:04<00:00,  4.53s/it, loss=0.627, acc=0.733]]\n",
      "Training: 100%|██████████| 1/1 [00:54<00:00, 54.10s/it, loss=0.575, acc=0.700]86]\n",
      "Validation: 100%|██████████| 1/1 [00:05<00:00,  5.40s/it, loss=0.627, acc=0.733]]\n",
      "Training: 100%|██████████| 1/1 [00:53<00:00, 53.65s/it, loss=0.575, acc=0.814]00]\n",
      "Validation: 100%|██████████| 1/1 [00:04<00:00,  4.82s/it, loss=0.627, acc=0.733]]\n",
      "Training: 100%|██████████| 1/1 [00:53<00:00, 53.75s/it, loss=0.575, acc=0.814]14]\n",
      "Validation: 100%|██████████| 1/1 [00:05<00:00,  5.38s/it, loss=0.627, acc=0.733]]\n",
      "Training: 100%|██████████| 1/1 [00:52<00:00, 52.57s/it, loss=0.575, acc=0.814]14]\n",
      "Validation: 100%|██████████| 1/1 [00:05<00:00,  5.21s/it, loss=0.626, acc=0.733]]\n",
      "Training: 100%|██████████| 1/1 [00:52<00:00, 52.94s/it, loss=0.574, acc=0.814]14]\n",
      "Validation: 100%|██████████| 1/1 [00:05<00:00,  5.42s/it, loss=0.626, acc=0.733]]\n",
      "Training: 100%|██████████| 1/1 [00:54<00:00, 54.16s/it, loss=0.574, acc=0.814]14]\n",
      "Validation: 100%|██████████| 1/1 [00:05<00:00,  5.79s/it, loss=0.625, acc=0.733]]\n",
      "Training: 100%|██████████| 1/1 [00:53<00:00, 53.82s/it, loss=0.574, acc=0.814]14]\n",
      "Validation: 100%|██████████| 1/1 [00:04<00:00,  4.72s/it, loss=0.625, acc=0.733]]\n",
      "Training: 100%|██████████| 1/1 [00:54<00:00, 54.58s/it, loss=0.574, acc=0.814]14]\n",
      "Validation: 100%|██████████| 1/1 [00:05<00:00,  5.70s/it, loss=0.624, acc=0.700]]\n",
      "Training: 100%|██████████| 1/1 [00:54<00:00, 54.74s/it, loss=0.574, acc=0.800]14]\n",
      "Validation: 100%|██████████| 1/1 [00:05<00:00,  5.70s/it, loss=0.624, acc=0.700]]\n",
      "Epochs: 100%|██████████| 50/50 [11:04:31<00:00, 797.43s/it, loss=0.574, acc=0.800]\n"
     ]
    }
   ],
   "source": [
    "#Training loop\n",
    "best_val_loss = 1000\n",
    "best_val_acc = 0\n",
    "best_train_loss = 1000\n",
    "best_acc_train = 0\n",
    "\n",
    "training_loss_list = []\n",
    "validation_loss_list = []\n",
    "training_acc_list = []\n",
    "validation_acc_list = []\n",
    "print(\"Training started:\")\n",
    "\n",
    "epoch_bar = tqdm(range(EPOCHS), total=EPOCHS, desc=\"Epochs\", position=0, leave=True)\n",
    "\n",
    "for epoch in epoch_bar:\n",
    "\n",
    "    model_hybrid.train()\n",
    "\n",
    "    running_loss = 0.0\n",
    "    running_corrects = 0\n",
    "\n",
    "    # Iterate over data.\n",
    "    it = 0\n",
    "    training_bar = tqdm(training_dataloader, total=len(training_dataloader), desc=\"Training\", position=0, leave=True)\n",
    "\n",
    "    for inputs, labels in training_bar:\n",
    "        batch_size_ = len(inputs)\n",
    "        inputs = inputs.to(device)\n",
    "        labels = labels.to(device)\n",
    "        optimizer_hybrid.zero_grad()\n",
    "\n",
    "        # Track/compute gradient and make an optimization step only when training\n",
    "        with torch.set_grad_enabled(True):\n",
    "            outputs = model_hybrid(inputs)\n",
    "            preds = torch.round(outputs)\n",
    "            loss = criterion(outputs, labels.unsqueeze(1).to(torch.double))\n",
    "            \n",
    "            \n",
    "            loss.backward()\n",
    "            optimizer_hybrid.step()\n",
    "\n",
    "        # Print iteration results\n",
    "        running_loss += loss.item()*batch_size_\n",
    "\n",
    "        batch_corrects = torch.sum(preds == labels.unsqueeze(1)).item()\n",
    "        running_corrects += batch_corrects\n",
    "\n",
    "        training_bar.set_postfix({\"loss\": f\"{loss:.3f}\", \"acc\": f\"{batch_corrects/batch_size_:.3f}\"})\n",
    "\n",
    "\n",
    "    # Print epoch results\n",
    "    train_loss = running_loss / len(training_dataloader.dataset)\n",
    "    train_acc = running_corrects / len(training_dataloader.dataset)\n",
    "\n",
    "    epoch_bar.set_postfix({\"loss\": f\"{train_loss:.3f}\", \"acc\": f\"{train_acc:.3f}\"})\n",
    "\n",
    "    summary_writer.add_scalar(\"Training/Loss\", train_loss, epoch)\n",
    "    summary_writer.add_scalar(\"Training/Acurracy\", train_acc, epoch)\n",
    "\n",
    "    training_loss_list.append(train_loss)\n",
    "    training_acc_list.append(train_acc)\n",
    "\n",
    "    exp_lr_scheduler.step()\n",
    "\n",
    "    if train_loss < best_train_loss:\n",
    "        best_train_loss = train_loss\n",
    "\n",
    "    if train_acc > best_acc_train:\n",
    "        best_acc_train = train_acc\n",
    "\n",
    "    \n",
    "    ## VALIDATION PHASE\n",
    "    validation_bar = tqdm(dev_dataloader, total=len(dev_dataloader), desc=\"Validation\", position=0, leave=True)\n",
    "    model_hybrid.eval()\n",
    "\n",
    "    running_loss = 0.0\n",
    "    running_corrects = 0\n",
    "\n",
    "\n",
    "    for inputs, labels in validation_bar:\n",
    "        batch_size_ = len(inputs)\n",
    "        inputs = inputs.to(device)\n",
    "        labels = labels.to(device)\n",
    "        optimizer_hybrid.zero_grad()\n",
    "\n",
    "        # Track/compute gradient and make an optimization step only when training\n",
    "        with torch.set_grad_enabled(False):\n",
    "            outputs = model_hybrid(inputs)\n",
    "            preds = torch.round(outputs)\n",
    "            loss = criterion(outputs, labels.unsqueeze(1).to(torch.double))\n",
    "\n",
    "        # Print iteration results\n",
    "        running_loss += loss.item()*batch_size_\n",
    "        batch_corrects = torch.sum(preds == labels.unsqueeze(1)).item()\n",
    "        running_corrects += batch_corrects\n",
    "\n",
    "        validation_bar.set_postfix({\"loss\": f\"{loss:.3f}\", \"acc\": f\"{batch_corrects/batch_size_:.3f}\"})\n",
    "        it += 1\n",
    "\n",
    "    validation_loss = running_loss / len(dev_dataloader.dataset)\n",
    "    validation_acc = running_corrects / len(dev_dataloader.dataset)\n",
    "\n",
    "    summary_writer.add_scalar(\"Validation/Loss\", validation_loss, epoch)\n",
    "    summary_writer.add_scalar(\"Validation/Acurracy\", validation_acc, epoch)\n",
    "\n",
    "    validation_loss_list.append(validation_loss)\n",
    "    validation_acc_list.append(validation_acc)\n",
    "\n",
    "    if validation_acc > best_val_acc:\n",
    "        best_val_acc = validation_acc\n",
    "\n",
    "    if validation_loss < best_val_loss:\n",
    "        best_val_loss = validation_loss\n",
    "\n"
   ]
  },
  {
   "cell_type": "code",
   "execution_count": null,
   "metadata": {},
   "outputs": [],
   "source": [
    "summary_writer.add_hparams({'lr': LR, 'gamma_lr': GAMMA_LR, 'step_lr': STEP_LR, 'weight_decay': WEIGHT_DECAY},\n",
    "                      {'hparam/loss_train': best_train_loss, 'hparam/acc_train': best_acc_train,\n",
    "                       'hparam/loss_valid': best_val_loss, 'hparam/acc_valid': best_val_acc})"
   ]
  },
  {
   "attachments": {},
   "cell_type": "markdown",
   "metadata": {},
   "source": [
    "## Display loss and accuracy results"
   ]
  },
  {
   "cell_type": "code",
   "execution_count": 40,
   "metadata": {},
   "outputs": [
    {
     "data": {
      "image/png": "[encoded data removed]",
      "text/plain": [
       "<Figure size 1000x500 with 2 Axes>"
      ]
     },
     "metadata": {},
     "output_type": "display_data"
    }
   ],
   "source": [
    "fig, ax1 = plt.subplots(1,2)\n",
    "\n",
    "# Plot Training and Validation Loss\n",
    "ax1[0].plot(training_loss_list, label='Training loss')\n",
    "ax1[0].plot(validation_loss_list, label='Validation loss')\n",
    "ax1[0].legend()\n",
    "ax1[0].set_ylabel('Loss')\n",
    "ax1[0].set_xlabel('Epoch')\n",
    "\n",
    "# Plot Training and Validation Accuracy\n",
    "ax1[1].plot(training_acc_list, label='Training accuracy')\n",
    "ax1[1].plot(validation_acc_list, label='Validation accuracy')\n",
    "ax1[1].legend()\n",
    "ax1[1].set_ylabel('Accuracy')\n",
    "ax1[1].set_xlabel('Epoch')\n",
    "\n",
    "\n",
    "fig.suptitle('Training results')\n",
    "fig.set_size_inches(10, 5)"
   ]
  }
 ],
 "metadata": {
  "kernelspec": {
   "display_name": "wp6-qnlp-G79kAyvs-py3.10",
   "language": "python",
   "name": "python3"
  },
  "language_info": {
   "codemirror_mode": {
    "name": "ipython",
    "version": 3
   },
   "file_extension": ".py",
   "mimetype": "text/x-python",
   "name": "python",
   "nbconvert_exporter": "python",
   "pygments_lexer": "ipython3",
   "version": "3.10.12"
  },
  "orig_nbformat": 4
 },
 "nbformat": 4,
 "nbformat_minor": 2
}
