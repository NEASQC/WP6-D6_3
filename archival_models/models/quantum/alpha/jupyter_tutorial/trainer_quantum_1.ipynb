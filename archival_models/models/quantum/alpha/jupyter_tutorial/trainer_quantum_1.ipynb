{
 "cells": [
  {
   "attachments": {},
   "cell_type": "markdown",
   "metadata": {},
   "source": [
    "# Implementation of the Quantum Pennylane Lambeq Original pipeline"
   ]
  },
  {
   "attachments": {},
   "cell_type": "markdown",
   "metadata": {},
   "source": [
    "Code based on the the Quantum transfer learning pennylane tutorial but adapted for an NLP use case.\n",
    "\n",
    "\\+ Based on the Quantum NLP with the lambeq–PennyLane integration tutorial\n",
    "\n",
    "https://pennylane.ai/qml/demos/tutorial_quantum_transfer_learning\n",
    "\n",
    "https://pennylane.ai/blog/2023/04/quantum-nlp-with-the-lambeq-pennylane-integration/"
   ]
  },
  {
   "attachments": {},
   "cell_type": "markdown",
   "metadata": {},
   "source": [
    "The goal here is to reimplement the original alpha code\n",
    "\n",
    "--> Using Word embeddings\n",
    "\n",
    "--> Then PCA\n",
    "\n",
    "--> Then MLP\n",
    "\n",
    "Then concat every output vector of each words of a sentence\n",
    "Finally feed it as params to our model"
   ]
  },
  {
   "attachments": {},
   "cell_type": "markdown",
   "metadata": {},
   "source": [
    "## Basic Imports"
   ]
  },
  {
   "cell_type": "code",
   "execution_count": 84,
   "metadata": {},
   "outputs": [],
   "source": [
    "import os\n",
    "import warnings\n",
    "import pandas as pd\n",
    "from sklearn import preprocessing\n",
    "from sklearn.model_selection import train_test_split\n",
    "from torch.optim import lr_scheduler\n",
    "from sklearn.decomposition import PCA\n",
    "import matplotlib.pyplot as plt\n",
    "import ast\n",
    "\n",
    "warnings.filterwarnings('ignore')\n",
    "os.environ['TOKENIZERS_PARALLELISM'] = 'true'"
   ]
  },
  {
   "cell_type": "code",
   "execution_count": 85,
   "metadata": {},
   "outputs": [],
   "source": [
    "import numpy as np\n",
    "import torch\n",
    "import json"
   ]
  },
  {
   "attachments": {},
   "cell_type": "markdown",
   "metadata": {},
   "source": [
    "## Seed everything for reproductibility"
   ]
  },
  {
   "cell_type": "code",
   "execution_count": 86,
   "metadata": {},
   "outputs": [],
   "source": [
    "def seed_everything(seed: int):\n",
    "    import random, os\n",
    "    import numpy as np\n",
    "    import torch\n",
    "    \n",
    "    random.seed(seed)\n",
    "    os.environ['PYTHONHASHSEED'] = str(seed)\n",
    "    np.random.seed(seed)\n",
    "    torch.manual_seed(seed)\n",
    "    torch.cuda.manual_seed(seed)\n",
    "    torch.backends.cudnn.deterministic = True\n",
    "    torch.backends.cudnn.benchmark = True\n",
    "    torch.mps.manual_seed(seed)\n"
   ]
  },
  {
   "cell_type": "code",
   "execution_count": 87,
   "metadata": {},
   "outputs": [],
   "source": [
    "seed_everything(0)"
   ]
  },
  {
   "attachments": {},
   "cell_type": "markdown",
   "metadata": {},
   "source": [
    "## Inputting the data"
   ]
  },
  {
   "attachments": {},
   "cell_type": "markdown",
   "metadata": {},
   "source": [
    "The dataset is created from a JSON file of size (3500, 4).\n",
    "\n",
    "Each example has 3 features: Class, Sentence, Tree, Sentence_vectorized.\n",
    "\n",
    "The Sentence_vectorized corresponds to a list of the BERT embeddings of every words in each sentences"
   ]
  },
  {
   "cell_type": "code",
   "execution_count": 88,
   "metadata": {},
   "outputs": [],
   "source": [
    "#Dimension of the reduced word embedding by PCA\n",
    "REDUCED_WORD_EMBEDDING_DIMENSION = 22"
   ]
  },
  {
   "cell_type": "code",
   "execution_count": 89,
   "metadata": {},
   "outputs": [],
   "source": [
    "def custom_list_reshaper(array):\n",
    "        \"\"\" reshapes [[[x]],[[y]],...] into [[x],[y],...]\"\"\"\n",
    "        \n",
    "        new_array = []\n",
    "        for sub_array in array:\n",
    "            new_array.append(sub_array[0])\n",
    "        return new_array"
   ]
  },
  {
   "cell_type": "code",
   "execution_count": 90,
   "metadata": {},
   "outputs": [],
   "source": [
    "def fit_pca(df, n_components):\n",
    "    \"\"\" applies pca to the array and returns the reduced array\"\"\"\n",
    "    # Convert each array to NumPy array\n",
    "    np_array = df['sentence_vectorized'].apply(np.array)\n",
    "\n",
    "    # Concatenate the NumPy arrays into a single array\n",
    "    np_array = np.concatenate(np_array)\n",
    "\n",
    "    pca = PCA(n_components=n_components)\n",
    "    pca.fit(np_array)\n",
    "\n",
    "    print('PCA explained variance:', pca.explained_variance_ratio_.sum())\n",
    "\n",
    "    return pca\n"
   ]
  },
  {
   "cell_type": "code",
   "execution_count": 91,
   "metadata": {},
   "outputs": [],
   "source": [
    "def preprocess_single_dataset(file):\n",
    "    \"\"\"\n",
    "    Preprocess function for the dataset + Create train/test split\n",
    "    \"\"\"\n",
    "    with open(file) as f:\n",
    "        data = json.load(f)\n",
    "        df_dataset = pd.DataFrame(data)\n",
    "        df_dataset[\"class\"]= df_dataset[\"class\"].map({\"2\": 1, \"1\": 0})\n",
    "\n",
    "    df_dataset['sentence_vectorized'] = df_dataset['sentence_vectorized'].apply(lambda x: custom_list_reshaper(x))\n",
    "\n",
    "    pca = fit_pca(df_dataset, REDUCED_WORD_EMBEDDING_DIMENSION)\n",
    "    df_dataset['sentence_vectorized'] = df_dataset['sentence_vectorized'].apply(lambda x: pca.transform(x))\n",
    "\n",
    "    X_train, X_test, y_train, y_test = train_test_split(df_dataset[['sentence', 'sentence_vectorized']], df_dataset['class'], test_size=0.2)\n",
    "\n",
    "    return X_train, X_test, y_train, y_test"
   ]
  },
  {
   "cell_type": "code",
   "execution_count": 92,
   "metadata": {},
   "outputs": [],
   "source": [
    "def preprocess_train_test_dataset(train_csv_file, test_csv_file):\n",
    "    \"\"\"\n",
    "    Preprocess function for the dataset + Create train/test split\n",
    "    \"\"\"\n",
    "    df_train = pd.read_csv(train_csv_file)\n",
    "    df_test = pd.read_csv(test_csv_file)\n",
    "\n",
    "\n",
    "    #df_train['sentence_vectorized'] = df_train['sentence_vectorized'].apply(lambda x: custom_list_reshaper(x))\n",
    "    #df_test['sentence_vectorized'] = df_test['sentence_vectorized'].apply(lambda x: custom_list_reshaper(x))\n",
    "\n",
    "    df_train['sentence_vectorized'] = df_train['sentence_vectorized'].apply(ast.literal_eval)\n",
    "    df_test['sentence_vectorized'] = df_test['sentence_vectorized'].apply(ast.literal_eval)\n",
    "\n",
    "    pca = fit_pca(df_train, REDUCED_WORD_EMBEDDING_DIMENSION)\n",
    "    df_train['sentence_vectorized'] = df_train['sentence_vectorized'].apply(lambda x: pca.transform(x))\n",
    "    df_test['sentence_vectorized'] = df_test['sentence_vectorized'].apply(lambda x: pca.transform(x))\n",
    "\n",
    "    #Preprocess labels\n",
    "    label_encoder = preprocessing.LabelEncoder()\n",
    "    label_encoder.fit(df_train['class'].append(df_test['class']))\n",
    "\n",
    "    df_train['class'] = label_encoder.transform(df_train['class'])\n",
    "    df_test['class'] = label_encoder.transform(df_test['class'])\n",
    "\n",
    "    X_train, y_train, X_test, y_test = df_train[['sentence_vectorized', 'sentence']], df_train['class'], df_test[['sentence_vectorized', 'sentence']], df_test['class']\n",
    "\n",
    "    return X_train, X_test, y_train, y_test"
   ]
  },
  {
   "cell_type": "code",
   "execution_count": 93,
   "metadata": {},
   "outputs": [
    {
     "name": "stdout",
     "output_type": "stream",
     "text": [
      "PCA explained variance: 0.9764395012383982\n"
     ]
    }
   ],
   "source": [
    "#X_train, X_test, y_train, y_test = preprocess_single_dataset('../../../../data/amazonreview_reduced_bert_train.json')\n",
    "X_train, X_test, y_train, y_test = preprocess_train_test_dataset('../../../../data/toy_dataset/toy_dataset_bert_word_embedding_train.csv', '../../../../data/toy_dataset/toy_dataset_bert_word_embedding_test.csv')"
   ]
  },
  {
   "cell_type": "code",
   "execution_count": 10,
   "metadata": {},
   "outputs": [],
   "source": [
    "#For testing purposes\n",
    "#X_train = X_train[0:400]\n",
    "#y_train = y_train[0:400]\n",
    "#X_test = X_test[0:100]\n",
    "#y_test = y_test[0:100]"
   ]
  },
  {
   "attachments": {},
   "cell_type": "markdown",
   "metadata": {},
   "source": [
    "## Creating and parameterizing diagrams"
   ]
  },
  {
   "cell_type": "code",
   "execution_count": 94,
   "metadata": {},
   "outputs": [
    {
     "name": "stderr",
     "output_type": "stream",
     "text": [
      "Tagging sentences.\n",
      "Parsing tagged sentences.\n",
      "Turning parse trees to diagrams.\n",
      "Tagging sentences.\n",
      "Parsing tagged sentences.\n",
      "Turning parse trees to diagrams.\n"
     ]
    }
   ],
   "source": [
    "from lambeq import BobcatParser\n",
    "\n",
    "parser = BobcatParser(root_cats=('NP', 'N'), verbose='text')\n",
    "\n",
    "raw_train_diagrams = parser.sentences2diagrams(X_train['sentence'].values.tolist(), suppress_exceptions=True)\n",
    "raw_val_diagrams = parser.sentences2diagrams(X_test['sentence'].values.tolist(), suppress_exceptions=True)"
   ]
  },
  {
   "cell_type": "code",
   "execution_count": 95,
   "metadata": {},
   "outputs": [],
   "source": [
    "from lambeq import Rewriter\n",
    "# Apply rewrite rule for prepositional phrases\n",
    "\n",
    "rewriter = Rewriter(['prepositional_phrase', 'determiner', 'curry'])\n",
    "\n",
    "raw_train_diagrams = [rewriter(diagram) for diagram in raw_train_diagrams]\n",
    "raw_val_diagrams = [rewriter(diagram) for diagram in raw_val_diagrams]"
   ]
  },
  {
   "cell_type": "code",
   "execution_count": 96,
   "metadata": {},
   "outputs": [],
   "source": [
    "train_diagrams = [\n",
    "    diagram.normal_form()\n",
    "    for diagram in raw_train_diagrams if diagram is not None\n",
    "]\n",
    "val_diagrams = [\n",
    "    diagram.normal_form()\n",
    "    for diagram in raw_val_diagrams if diagram is not None\n",
    "]\n",
    "\n",
    "train_labels = [\n",
    "    label for (diagram, label)\n",
    "    in zip(raw_train_diagrams, y_train)\n",
    "    if diagram is not None]\n",
    "val_labels = [\n",
    "    label for (diagram, label)\n",
    "    in zip(raw_val_diagrams, y_test)\n",
    "    if diagram is not None\n",
    "]"
   ]
  },
  {
   "cell_type": "code",
   "execution_count": 97,
   "metadata": {},
   "outputs": [
    {
     "data": {
      "text/plain": [
       "80"
      ]
     },
     "execution_count": 97,
     "metadata": {},
     "output_type": "execute_result"
    }
   ],
   "source": [
    "train_diagrams.__len__()"
   ]
  },
  {
   "attachments": {},
   "cell_type": "markdown",
   "metadata": {},
   "source": [
    "## Creating circuits"
   ]
  },
  {
   "cell_type": "code",
   "execution_count": 98,
   "metadata": {},
   "outputs": [],
   "source": [
    "from lambeq import AtomicType, IQPAnsatz, remove_cups\n",
    "\n",
    "ansatz = IQPAnsatz({AtomicType.NOUN: 1, AtomicType.SENTENCE: 1},\n",
    "                   n_layers=4, n_single_qubit_params=3)"
   ]
  },
  {
   "cell_type": "code",
   "execution_count": 99,
   "metadata": {},
   "outputs": [
    {
     "data": {
      "image/png": "[encoded data removed]",
      "text/plain": [
       "<Figure size 900x1000 with 1 Axes>"
      ]
     },
     "metadata": {},
     "output_type": "display_data"
    }
   ],
   "source": [
    "train_circuits = [ansatz(remove_cups(diagram)) for diagram in train_diagrams]\n",
    "val_circuits =  [ansatz(remove_cups(diagram))  for diagram in val_diagrams]\n",
    "\n",
    "train_circuits[0].draw(figsize=(9, 10))"
   ]
  },
  {
   "attachments": {},
   "cell_type": "markdown",
   "metadata": {},
   "source": [
    "## Hybrid QNLP Model"
   ]
  },
  {
   "cell_type": "code",
   "execution_count": 100,
   "metadata": {},
   "outputs": [],
   "source": [
    "BATCH_SIZE = 2048\n",
    "EPOCHS = 50\n",
    "SEED = 2\n",
    "LR = 5e-2\n",
    "GAMMA_LR = 0.5    # Learning rate reduction applied every STEP_LR epochs.\n",
    "STEP_LR = 20"
   ]
  },
  {
   "cell_type": "code",
   "execution_count": 101,
   "metadata": {},
   "outputs": [],
   "source": [
    "from torch import nn\n",
    "from lambeq import PennyLaneModel\n",
    "\n",
    "# inherit from PennyLaneModel to use the PennyLane circuit evaluation\n",
    "class DressedQuantumModel(PennyLaneModel):\n",
    "    def __init__(self, **kwargs):\n",
    "        PennyLaneModel.__init__(self, **kwargs)\n",
    "\n",
    "        self.pre_qc_output_size = None\n",
    "\n",
    "        self.pre_qc = None\n",
    "\n",
    "        self.param_indexes_dict = {}\n",
    "        \n",
    "        self.post_qc = nn.Sequential(nn.Linear(2, 1),\n",
    "                                nn.Sigmoid())\n",
    "\n",
    "    \n",
    "    # To be called after the model is initialized\n",
    "    ##############################################################################################################\n",
    "    def update_pre_qc_output_size(self):\n",
    "        \"\"\"\n",
    "        Find the output size of the pre_qc neural network + Create the pre_qc neural network.\n",
    "        \"\"\"\n",
    "        self.pre_qc_output_size = self.find_pre_qc_output_size()\n",
    "        self.pre_qc = nn.Sequential(nn.Linear(REDUCED_WORD_EMBEDDING_DIMENSION, self.pre_qc_output_size),\n",
    "                                    nn.LeakyReLU(0.01))\n",
    "\n",
    "    def find_pre_qc_output_size(self):\n",
    "        \"\"\"\n",
    "        Find the output size of the pre_qc neural network.\n",
    "        It is the maximum number of parameters in all the circuits.\n",
    "        \"\"\"\n",
    "        max_number_of_params = 0\n",
    "        for circuit_pennylane in list(self.circuit_map.values()):\n",
    "            if circuit_pennylane._symbols.__len__() > max_number_of_params:\n",
    "                max_number_of_params = circuit_pennylane._symbols.__len__()\n",
    "\n",
    "        return max_number_of_params\n",
    "    \n",
    "    def find_param_indexes_from_diagram_dict(self, diagrams):\n",
    "        \"\"\"\n",
    "        Given a diagram, find the indexes of the parameters in the model.\n",
    "        Do it once and for all in the init function\n",
    "        Return a dictionary with the diagram as key and the list of indexes as value.\n",
    "        \"\"\"\n",
    "        for diagram in diagrams:\n",
    "            diagram_symbols = self.circuit_map[diagram]._symbols\n",
    "            model_symbols = self.symbols\n",
    "\n",
    "            param_indexes = []\n",
    "\n",
    "            for symbol in diagram_symbols:\n",
    "                try:\n",
    "                    param_indexes.append(model_symbols.index(symbol))\n",
    "                except ValueError:\n",
    "                    print(f\"Symbol {symbol} not found in model symbols\")\n",
    "                    return None\n",
    "                \n",
    "            self.param_indexes_dict[diagram] = param_indexes\n",
    "    ##############################################################################################################    \n",
    "    \n",
    "\n",
    "    def update_weights_from_embedding(self, param_indexes, param_values):\n",
    "        \"\"\"\n",
    "        Given a list of indexes and a list of values, update the weights of the model\n",
    "        \"\"\"\n",
    "        for index, value in zip(param_indexes, param_values):\n",
    "            self.weights[index] = torch.nn.Parameter(torch.tensor(value))\n",
    "\n",
    "\n",
    "    def forward(self, diagrams, embedding_list):\n",
    "        ## Here we go through lists of diagrams and bert embeddings because the Pytorch dataloader returns lists (uses batch)\n",
    "        # pass the embedding through a simple neural network\n",
    "        #embedding_out = self.pre_qc(bert_embeddings)\n",
    "        #print(embedding_out.shape)\n",
    "\n",
    "        sentence_q_params = []\n",
    "        for embedding in embedding_list:\n",
    "            # Here 'embedding' is a list of embeddings for each word in the sentence\n",
    "            post_qc_output = self.pre_qc(embedding)\n",
    "\n",
    "            post_qc_output = torch.sum(post_qc_output, dim=0)\n",
    "            sentence_q_params.append(post_qc_output)\n",
    "\n",
    "        # update the corresponding weights of the model\n",
    "        param_indexes_list = [self.param_indexes_dict[diagram] for diagram in diagrams]\n",
    "\n",
    "        # update the weights of the model\n",
    "        [self.update_weights_from_embedding(param_indexes, embedding) for param_indexes, embedding in zip(param_indexes_list, sentence_q_params)]\n",
    "\n",
    "        # evaluate the circuits\n",
    "        qc_output = self.get_diagram_output(diagrams)\n",
    "        \n",
    "        # pass the concatenated results through a simple neural network\n",
    "        return self.post_qc(qc_output)\n"
   ]
  },
  {
   "attachments": {},
   "cell_type": "markdown",
   "metadata": {},
   "source": [
    "### Creating the train/valid datasets"
   ]
  },
  {
   "cell_type": "code",
   "execution_count": 102,
   "metadata": {},
   "outputs": [],
   "source": [
    "all_circuits = train_circuits + val_circuits"
   ]
  },
  {
   "cell_type": "code",
   "execution_count": 103,
   "metadata": {},
   "outputs": [],
   "source": [
    "from lambeq import Dataset\n",
    "\n",
    "# initialise datasets and optimizers as in PyTorch\n",
    "train_dataset = Dataset(list(zip(train_circuits, X_train['sentence_vectorized'].apply(np.array))),\n",
    "                        train_labels,\n",
    "                        batch_size=BATCH_SIZE)\n",
    "\n",
    "valid_dataset = Dataset(list(zip(val_circuits, X_test['sentence_vectorized'].apply(np.array))),\n",
    "                        val_labels,\n",
    "                        batch_size=BATCH_SIZE)\n"
   ]
  },
  {
   "attachments": {},
   "cell_type": "markdown",
   "metadata": {},
   "source": [
    "### Initializing the model"
   ]
  },
  {
   "cell_type": "code",
   "execution_count": 104,
   "metadata": {},
   "outputs": [],
   "source": [
    "model = DressedQuantumModel.from_diagrams(all_circuits, probabilities=True, normalize=True)\n",
    "# initialise our model by pas sing in the diagrams, so that we have trainable parameters for each token\n",
    "model.initialise_weights()\n",
    "model.update_pre_qc_output_size()\n",
    "model.find_param_indexes_from_diagram_dict(all_circuits)\n",
    "model = model.double()"
   ]
  },
  {
   "cell_type": "code",
   "execution_count": 105,
   "metadata": {},
   "outputs": [],
   "source": [
    "criterion = nn.BCELoss()\n",
    "\n",
    "optimizer = torch.optim.Adam(model.parameters(), lr=LR, weight_decay=1e-2)\n",
    "exp_lr_scheduler = lr_scheduler.StepLR(\n",
    "    optimizer, step_size=STEP_LR, gamma=GAMMA_LR\n",
    ")"
   ]
  },
  {
   "attachments": {},
   "cell_type": "markdown",
   "metadata": {},
   "source": [
    "### Initializing Tensorboard to log our results"
   ]
  },
  {
   "cell_type": "code",
   "execution_count": 106,
   "metadata": {},
   "outputs": [],
   "source": [
    "from torch.utils.tensorboard import SummaryWriter\n",
    "import datetime\n",
    "\n",
    "log_dir = \"logs/fit_pennylane_lambeq_original/\" + datetime.datetime.now().strftime(\"%Y%m%d-%H%M%S\")\n",
    "summary_writer = SummaryWriter(log_dir=log_dir)"
   ]
  },
  {
   "attachments": {},
   "cell_type": "markdown",
   "metadata": {},
   "source": [
    "### Training loop"
   ]
  },
  {
   "cell_type": "code",
   "execution_count": 107,
   "metadata": {},
   "outputs": [
    {
     "name": "stdout",
     "output_type": "stream",
     "text": [
      "Epoch: 0\n",
      "Train loss: 0.7846490492293359\n",
      "Valid loss: 0.5625\n",
      "Train acc: 1.2155405185295751\n",
      "Valid acc: 0.15\n",
      "Epoch: 1\n",
      "Train loss: 0.7663969175913277\n",
      "Valid loss: 0.5625\n",
      "Train acc: 1.154950516995236\n",
      "Valid acc: 0.15\n",
      "Epoch: 2\n",
      "Train loss: 0.7489940183926846\n",
      "Valid loss: 0.5625\n",
      "Train acc: 1.0975676041319395\n",
      "Valid acc: 0.15\n",
      "Epoch: 3\n",
      "Train loss: 0.7332265712445928\n",
      "Valid loss: 0.5625\n",
      "Train acc: 1.0443837854183335\n",
      "Valid acc: 0.15\n",
      "Epoch: 4\n",
      "Train loss: 0.719988893709459\n",
      "Valid loss: 0.5625\n",
      "Train acc: 0.9965389635389605\n",
      "Valid acc: 0.15\n",
      "Epoch: 5\n",
      "Train loss: 0.7087535102297039\n",
      "Valid loss: 0.5625\n",
      "Train acc: 0.9509657501721396\n",
      "Valid acc: 0.15\n",
      "Epoch: 6\n",
      "Train loss: 0.7001151208653551\n",
      "Valid loss: 0.5625\n",
      "Train acc: 0.9060822789974006\n",
      "Valid acc: 0.15\n",
      "Epoch: 7\n",
      "Train loss: 0.6934799799760877\n",
      "Valid loss: 0.5625\n",
      "Train acc: 0.8661254779243581\n",
      "Valid acc: 0.15\n",
      "Epoch: 8\n",
      "Train loss: 0.6882911616472954\n",
      "Valid loss: 0.5625\n",
      "Train acc: 0.8307636286933269\n",
      "Valid acc: 0.15\n",
      "Epoch: 9\n",
      "Train loss: 0.6860643079444978\n",
      "Valid loss: 0.5625\n",
      "Train acc: 0.7977000787116297\n",
      "Valid acc: 0.15\n",
      "Epoch: 10\n",
      "Train loss: 0.6860756211134003\n",
      "Valid loss: 0.5625\n",
      "Train acc: 0.7679157555155619\n",
      "Valid acc: 0.15\n",
      "Epoch: 11\n",
      "Train loss: 0.686533897550796\n",
      "Valid loss: 0.5625\n",
      "Train acc: 0.7440690981624\n",
      "Valid acc: 0.15\n",
      "Epoch: 12\n",
      "Train loss: 0.6873032857469794\n",
      "Valid loss: 0.5625\n",
      "Train acc: 0.7251926106083856\n",
      "Valid acc: 0.15\n",
      "Epoch: 13\n",
      "Train loss: 0.6886481350027852\n",
      "Valid loss: 0.5625\n",
      "Train acc: 0.7104079278620096\n",
      "Valid acc: 0.15\n",
      "Epoch: 14\n",
      "Train loss: 0.690483237028355\n",
      "Valid loss: 0.5625\n",
      "Train acc: 0.6994311774360844\n",
      "Valid acc: 0.15\n",
      "Epoch: 15\n",
      "Train loss: 0.692094043735991\n",
      "Valid loss: 0.5625\n",
      "Train acc: 0.6918417672430316\n",
      "Valid acc: 0.85\n",
      "Epoch: 16\n",
      "Train loss: 0.6934359308881513\n",
      "Valid loss: 0.4375\n",
      "Train acc: 0.6875195008008284\n",
      "Valid acc: 0.85\n",
      "Epoch: 17\n",
      "Train loss: 0.6942321070393603\n",
      "Valid loss: 0.4375\n",
      "Train acc: 0.6864237752849978\n",
      "Valid acc: 0.85\n",
      "Epoch: 18\n",
      "Train loss: 0.694445813643339\n",
      "Valid loss: 0.4375\n",
      "Train acc: 0.6882325395456748\n",
      "Valid acc: 0.85\n",
      "Epoch: 19\n",
      "Train loss: 0.6941254768129114\n",
      "Valid loss: 0.4375\n",
      "Train acc: 0.6925477818287857\n",
      "Valid acc: 0.65\n",
      "Epoch: 20\n",
      "Train loss: 0.693377059122912\n",
      "Valid loss: 0.425\n",
      "Train acc: 0.6957682404935491\n",
      "Valid acc: 0.15\n",
      "Epoch: 21\n",
      "Train loss: 0.6928229529350023\n",
      "Valid loss: 0.5875\n",
      "Train acc: 0.6999296625982236\n",
      "Valid acc: 0.15\n",
      "Epoch: 22\n",
      "Train loss: 0.6921166566453606\n",
      "Valid loss: 0.5625\n",
      "Train acc: 0.7049030925076728\n",
      "Valid acc: 0.15\n",
      "Epoch: 23\n",
      "Train loss: 0.6912923556060936\n",
      "Valid loss: 0.5625\n",
      "Train acc: 0.7102802631059484\n",
      "Valid acc: 0.15\n",
      "Epoch: 24\n",
      "Train loss: 0.6903810927828049\n",
      "Valid loss: 0.5625\n",
      "Train acc: 0.7166172543325351\n",
      "Valid acc: 0.15\n",
      "Epoch: 25\n",
      "Train loss: 0.6894121214472895\n",
      "Valid loss: 0.5625\n",
      "Train acc: 0.7235301761986723\n",
      "Valid acc: 0.15\n",
      "Epoch: 26\n",
      "Train loss: 0.6884125536516766\n",
      "Valid loss: 0.5625\n",
      "Train acc: 0.7307463840803736\n",
      "Valid acc: 0.15\n",
      "Epoch: 27\n",
      "Train loss: 0.687396770627536\n",
      "Valid loss: 0.5625\n",
      "Train acc: 0.7381869120823936\n",
      "Valid acc: 0.15\n",
      "Epoch: 28\n",
      "Train loss: 0.6863539179793415\n",
      "Valid loss: 0.5625\n",
      "Train acc: 0.7457060889954928\n",
      "Valid acc: 0.15\n",
      "Epoch: 29\n",
      "Train loss: 0.6852453887334496\n",
      "Valid loss: 0.5625\n",
      "Train acc: 0.7531290158897572\n",
      "Valid acc: 0.15\n",
      "Epoch: 30\n",
      "Train loss: 0.6840089670524916\n",
      "Valid loss: 0.5625\n",
      "Train acc: 0.7603241104854617\n",
      "Valid acc: 0.15\n",
      "Epoch: 31\n",
      "Train loss: 0.6825548751074864\n",
      "Valid loss: 0.5625\n",
      "Train acc: 0.7673414771684623\n",
      "Valid acc: 0.15\n",
      "Epoch: 32\n",
      "Train loss: 0.6807542709265793\n",
      "Valid loss: 0.5625\n",
      "Train acc: 0.7741954369096378\n",
      "Valid acc: 0.15\n",
      "Epoch: 33\n",
      "Train loss: 0.6784155328660735\n",
      "Valid loss: 0.5625\n",
      "Train acc: 0.7804210040925696\n",
      "Valid acc: 0.15\n",
      "Epoch: 34\n",
      "Train loss: 0.6752569375430227\n",
      "Valid loss: 0.5625\n",
      "Train acc: 0.785367911000879\n",
      "Valid acc: 0.15\n",
      "Epoch: 35\n",
      "Train loss: 0.6709271168005848\n",
      "Valid loss: 0.5625\n",
      "Train acc: 0.7886505646255839\n",
      "Valid acc: 0.15\n",
      "Epoch: 36\n",
      "Train loss: 0.6650574655270366\n",
      "Valid loss: 0.5625\n",
      "Train acc: 0.7900492883086049\n",
      "Valid acc: 0.15\n",
      "Epoch: 37\n",
      "Train loss: 0.6573586242174363\n",
      "Valid loss: 0.5625\n",
      "Train acc: 0.7892924844945858\n",
      "Valid acc: 0.15\n",
      "Epoch: 38\n",
      "Train loss: 0.6479674891384161\n",
      "Valid loss: 0.5625\n",
      "Train acc: 0.7865044679367358\n",
      "Valid acc: 0.15\n",
      "Epoch: 39\n",
      "Train loss: 0.636711039472337\n",
      "Valid loss: 0.5625\n",
      "Train acc: 0.7825367970150936\n",
      "Valid acc: 0.15\n",
      "Epoch: 40\n",
      "Train loss: 0.6236289209641128\n",
      "Valid loss: 0.5625\n",
      "Train acc: 0.7802801447637611\n",
      "Valid acc: 0.15\n",
      "Epoch: 41\n",
      "Train loss: 0.6162399709952407\n",
      "Valid loss: 0.5625\n",
      "Train acc: 0.7779000091116997\n",
      "Valid acc: 0.15\n",
      "Epoch: 42\n",
      "Train loss: 0.6082241182839117\n",
      "Valid loss: 0.5625\n",
      "Train acc: 0.7755822004725161\n",
      "Valid acc: 0.15\n",
      "Epoch: 43\n",
      "Train loss: 0.6001812076399119\n",
      "Valid loss: 0.5625\n",
      "Train acc: 0.7734620451153391\n",
      "Valid acc: 0.15\n",
      "Epoch: 44\n",
      "Train loss: 0.5925002694063173\n",
      "Valid loss: 0.5625\n",
      "Train acc: 0.7715707328734034\n",
      "Valid acc: 0.15\n",
      "Epoch: 45\n",
      "Train loss: 0.585120042293574\n",
      "Valid loss: 0.5625\n",
      "Train acc: 0.7698626749071699\n",
      "Valid acc: 0.15\n",
      "Epoch: 46\n",
      "Train loss: 0.577630878877448\n",
      "Valid loss: 0.5625\n",
      "Train acc: 0.768304858388204\n",
      "Valid acc: 0.35\n",
      "Epoch: 47\n",
      "Train loss: 0.5697699398860412\n",
      "Valid loss: 0.8625\n",
      "Train acc: 0.7668921860456759\n",
      "Valid acc: 0.5\n",
      "Epoch: 48\n",
      "Train loss: 0.5618151788182394\n",
      "Valid loss: 0.925\n",
      "Train acc: 0.7656616578630088\n",
      "Valid acc: 0.5\n",
      "Epoch: 49\n",
      "Train loss: 0.5540475762001804\n",
      "Valid loss: 0.925\n",
      "Train acc: 0.7646850265872798\n",
      "Valid acc: 0.45\n"
     ]
    }
   ],
   "source": [
    "best = {'acc': 0, 'epoch': 0}\n",
    "best_val_loss = 1000\n",
    "best_val_acc = 0\n",
    "best_train_loss = 1000\n",
    "best_acc_train = 0\n",
    "\n",
    "training_loss_list = []\n",
    "validation_loss_list = []\n",
    "training_acc_list = []\n",
    "validation_acc_list = []\n",
    "\n",
    "for epoch in range(EPOCHS):\n",
    "    print('Epoch: {}'.format(epoch))\n",
    "    running_loss = 0.0\n",
    "    running_corrects = 0\n",
    "\n",
    "    #for circuits, embeddings, labels in train_dataloader:\n",
    "    for input, labels in train_dataset:\n",
    "        batch_size_ = len(input)\n",
    "        circuits, embeddings = np.array(input).T\n",
    "        optimizer.zero_grad()\n",
    "\n",
    "        embedding_list = [torch.tensor(embedding) for embedding in embeddings]\n",
    "\n",
    "        predicted = model(circuits, embedding_list)\n",
    "\n",
    "        # use BCELoss as our outputs are probabilities, and labels are binary\n",
    "        loss = criterion(torch.flatten(predicted), torch.DoubleTensor(labels))\n",
    "        #running_loss += loss.item()\n",
    "        running_loss += loss.item()*batch_size_\n",
    "        loss.backward()\n",
    "        optimizer.step()\n",
    "\n",
    "        batch_corrects = (torch.round(torch.flatten(predicted)) == torch.DoubleTensor(labels)).sum().item()\n",
    "        running_corrects += batch_corrects\n",
    "        \n",
    "\n",
    "\n",
    "    # Print epoch results\n",
    "    train_loss = running_loss / len(train_dataset)\n",
    "    train_acc = running_corrects / len(train_dataset)\n",
    "    \n",
    "\n",
    "    summary_writer.add_scalar(\"Training/Loss\", train_loss, epoch)\n",
    "    summary_writer.add_scalar(\"Training/Acurracy\", train_acc, epoch)\n",
    "\n",
    "    training_loss_list.append(train_loss)\n",
    "    training_acc_list.append(train_acc)\n",
    "\n",
    "\n",
    "    if train_loss < best_train_loss:\n",
    "        best_train_loss = train_loss\n",
    "\n",
    "    if train_acc > best_acc_train:\n",
    "        best_acc_train = train_acc\n",
    "\n",
    "    running_loss = 0.0\n",
    "    running_corrects = 0\n",
    "\n",
    "    # evaluate on valid set every 5 epochs\n",
    "    # save the model if it's the best so far\n",
    "    # stop training if the model hasn't improved for 10 epochs\n",
    "    for input, labels in valid_dataset:\n",
    "        batch_size_ = len(input)\n",
    "        circuits, embeddings = np.array(input).T\n",
    "        optimizer.zero_grad()\n",
    "        \n",
    "        embedding_list = [torch.tensor(embedding) for embedding in embeddings]\n",
    "\n",
    "        predicted = model(circuits, embedding_list)\n",
    "\n",
    "        loss = criterion(torch.flatten(predicted), torch.DoubleTensor(labels))\n",
    "        running_loss += loss.item()*batch_size_\n",
    "\n",
    "\n",
    "        batch_corrects = (torch.round(torch.flatten(predicted)) == torch.DoubleTensor(labels)).sum().item()\n",
    "        running_corrects += batch_corrects\n",
    "\n",
    "\n",
    "    validation_loss = running_loss / len(valid_dataset)\n",
    "    validation_acc = running_corrects / len(valid_dataset)\n",
    "\n",
    "    summary_writer.add_scalar(\"Validation/Loss\", validation_loss, epoch)\n",
    "    summary_writer.add_scalar(\"Validation/Acurracy\", validation_acc, epoch)\n",
    "\n",
    "    validation_loss_list.append(validation_loss)\n",
    "    validation_acc_list.append(validation_acc)\n",
    "\n",
    "    exp_lr_scheduler.step()\n",
    "    \n",
    "    print('Train loss: {}'.format(train_loss))\n",
    "    print('Valid loss: {}'.format(train_acc))\n",
    "    print('Train acc: {}'.format(validation_loss))\n",
    "    print('Valid acc: {}'.format(validation_acc))\n",
    "\n",
    "    if validation_acc > best_val_acc:\n",
    "            best_val_acc = validation_acc\n",
    "            best['epoch'] = epoch\n",
    "            model.save('nlp_dressed_alpha_model.lt')\n",
    "    #elif epoch - best['epoch'] >= 10:\n",
    "    #    print('Early stopping')\n",
    "    #    break\n",
    "\n",
    "\n",
    "    if validation_loss < best_val_loss:\n",
    "        best_val_loss = validation_loss\n",
    "\n"
   ]
  },
  {
   "cell_type": "code",
   "execution_count": 25,
   "metadata": {},
   "outputs": [],
   "source": [
    "summary_writer.add_hparams({'lr': LR, 'gamma_lr': GAMMA_LR, 'step_lr': STEP_LR},\n",
    "                      {'hparam/loss_train': best_train_loss, 'hparam/acc_train': best_acc_train,\n",
    "                       'hparam/loss_valid': best_val_loss, 'hparam/acc_valid': best_val_acc})"
   ]
  },
  {
   "attachments": {},
   "cell_type": "markdown",
   "metadata": {},
   "source": [
    "## Display loss and accuracy results"
   ]
  },
  {
   "cell_type": "code",
   "execution_count": 108,
   "metadata": {},
   "outputs": [
    {
     "data": {
      "image/png": "[encoded data removed]",
      "text/plain": [
       "<Figure size 1000x500 with 2 Axes>"
      ]
     },
     "metadata": {},
     "output_type": "display_data"
    }
   ],
   "source": [
    "fig, ax1 = plt.subplots(1,2)\n",
    "\n",
    "# Plot Training and Validation Loss\n",
    "ax1[0].plot(training_loss_list, label='Training loss')\n",
    "ax1[0].plot(validation_loss_list, label='Validation loss')\n",
    "ax1[0].legend()\n",
    "ax1[0].set_ylabel('Loss')\n",
    "ax1[0].set_xlabel('Epoch')\n",
    "\n",
    "# Plot Training and Validation Accuracy\n",
    "ax1[1].plot(training_acc_list, label='Training accuracy')\n",
    "ax1[1].plot(validation_acc_list, label='Validation accuracy')\n",
    "ax1[1].legend()\n",
    "ax1[1].set_ylabel('Accuracy')\n",
    "ax1[1].set_xlabel('Epoch')\n",
    "\n",
    "\n",
    "fig.suptitle('Training results')\n",
    "fig.set_size_inches(10, 5)"
   ]
  },
  {
   "cell_type": "code",
   "execution_count": null,
   "metadata": {},
   "outputs": [],
   "source": []
  }
 ],
 "metadata": {
  "kernelspec": {
   "display_name": "wp6-qnlp-G79kAyvs-py3.10",
   "language": "python",
   "name": "python3"
  },
  "language_info": {
   "codemirror_mode": {
    "name": "ipython",
    "version": 3
   },
   "file_extension": ".py",
   "mimetype": "text/x-python",
   "name": "python",
   "nbconvert_exporter": "python",
   "pygments_lexer": "ipython3",
   "version": "3.10.12"
  }
 },
 "nbformat": 4,
 "nbformat_minor": 4
}
